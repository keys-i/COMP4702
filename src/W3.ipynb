{
  "cells": [
    {
      "cell_type": "markdown",
      "metadata": {
        "id": "9gOtD3l4yO3u"
      },
      "source": [
        "# W2 Practicals - COMP4702\n",
        "### (Supervised Learning)"
      ]
    },
    {
      "cell_type": "markdown",
      "source": [
        "### Aims:\n",
        "* To complement lecture material in understanding unsupervised learning.\n",
        "* To produce some assessable work for this subject."
      ],
      "metadata": {
        "id": "nQ39du5xywSw"
      }
    },
    {
      "cell_type": "code",
      "source": [
        "# Common Imports\n",
        "import numpy as np\n",
        "import pandas as pd\n",
        "import matplotlib.pyplot as plt"
      ],
      "metadata": {
        "id": "wAzn-c5myWI0"
      },
      "execution_count": null,
      "outputs": []
    },
    {
      "cell_type": "code",
      "source": [
        "# ANSI color\n",
        "class color:\n",
        "  YELLOW_BOLD = '\\033[1;33m'\n",
        "  END = '\\033[0m'"
      ],
      "metadata": {
        "id": "cTPm9UHiyrL8"
      },
      "execution_count": null,
      "outputs": []
    },
    {
      "cell_type": "markdown",
      "source": [
        "### Q1 Apply the k-means clustering algorithm (as implemented in Matlab or python scikit-learn) to the heightweight dataset (second and third columns). Plot the resulting cluster centres together with the data. Colour the data according to class label (first column; hint: sort the data!)."
      ],
      "metadata": {
        "id": "7zF9IiozyY6Z"
      }
    }
  ],
  "metadata": {
    "language_info": {
      "name": "python"
    },
    "colab": {
      "provenance": []
    },
    "kernelspec": {
      "name": "python3",
      "display_name": "Python 3"
    }
  },
  "nbformat": 4,
  "nbformat_minor": 0
}