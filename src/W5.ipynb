{
  "cells": [
    {
      "cell_type": "markdown",
      "metadata": {
        "id": "wEnOaZna9Rzx"
      },
      "source": [
        "# W5 Practicals - Performance"
      ]
    },
    {
      "cell_type": "markdown",
      "metadata": {
        "id": "agqTYvbq9hda"
      },
      "source": [
        "### Aims:\n",
        "* To gain some practical experience in evaluating supervised machine learning\n",
        "models.\n",
        "* To produce some assessable work for this subject."
      ]
    },
    {
      "cell_type": "markdown",
      "metadata": {
        "id": "baVAWGvq9wQL"
      },
      "source": [
        "### Procedure:\n",
        "In Prac W2 we applied k-NN and decision tree models to simple classification and regression datasets. The evaluation of the models was based on a single 70/30 split of the data into training and test data. In this Prac we will look more closely at the evaluation of these models.\n",
        "> Select one of the questions (3 – 6) from Prac W2 and revisit it for this prac."
      ]
    },
    {
      "cell_type": "markdown",
      "metadata": {
        "id": "PKmP9mvo-jhO"
      },
      "source": [
        "> On blackboard you will find a [link](https://docs.google.com/spreadsheets/d/1HAIDBp9ofIeEp5_braHBnwJ-heN8qdaxn5qk3q1c0vo/edit?usp=sharing) to a Google spreadsheet. Go there and enter your answers for Q2 – Q5."
      ]
    },
    {
      "cell_type": "code",
      "execution_count": 2,
      "metadata": {
        "id": "QoIDAKY__Jjn"
      },
      "outputs": [],
      "source": [
        "# Common Imports\n",
        "import pandas as pd\n",
        "import numpy as np\n",
        "from sklearn.model_selection import train_test_split\n",
        "from sklearn.neighbors import KNeighborsClassifier, KNeighborsRegressor"
      ]
    },
    {
      "cell_type": "code",
      "execution_count": 3,
      "metadata": {
        "id": "jUmAJwF5s8aw"
      },
      "outputs": [],
      "source": [
        "# ANSI color\n",
        "class color:\n",
        "  GREEN_BOLD = '\\033[1;32m'\n",
        "  YELLOW_BOLD = '\\033[1;33m'\n",
        "  BLUE_BOLD = '\\033[1;34m'\n",
        "  WHITE_BOLD = '\\033[1;37m'\n",
        "  END = '\\033[0m'"
      ]
    },
    {
      "cell_type": "markdown",
      "metadata": {
        "id": "u3RTU1y_9oXn"
      },
      "source": [
        "### Q1: Repeat Q2 from Prac W2 10 times, saving the 10 resulting training and test sets."
      ]
    },
    {
      "cell_type": "code",
      "execution_count": 4,
      "metadata": {
        "id": "W3JVLLgw_DeS"
      },
      "outputs": [],
      "source": [
        "# Specific Imports\n",
        "import os\n",
        "import datetime"
      ]
    },
    {
      "cell_type": "code",
      "execution_count": 6,
      "metadata": {
        "colab": {
          "base_uri": "https://localhost:8080/"
        },
        "id": "fmdSBOaC-dYf",
        "outputId": "d672a679-e915-41f8-ed7e-a5d892655e8f"
      },
      "outputs": [
        {
          "output_type": "stream",
          "name": "stdout",
          "text": [
            "\u001b[1;33mClassification\u001b[0m\n",
            "Data saved as \u001b[1;37m'dataset/classification/train/X1.csv'\u001b[0m and \u001b[1;37m'test/X1.csv'\u001b[0m\n",
            "Data saved as \u001b[1;37m'dataset/classification/train/X2.csv'\u001b[0m and \u001b[1;37m'test/X2.csv'\u001b[0m\n",
            "Data saved as \u001b[1;37m'dataset/classification/train/X3.csv'\u001b[0m and \u001b[1;37m'test/X3.csv'\u001b[0m\n",
            "Data saved as \u001b[1;37m'dataset/classification/train/X4.csv'\u001b[0m and \u001b[1;37m'test/X4.csv'\u001b[0m\n",
            "Data saved as \u001b[1;37m'dataset/classification/train/X5.csv'\u001b[0m and \u001b[1;37m'test/X5.csv'\u001b[0m\n",
            "Data saved as \u001b[1;37m'dataset/classification/train/X6.csv'\u001b[0m and \u001b[1;37m'test/X6.csv'\u001b[0m\n",
            "Data saved as \u001b[1;37m'dataset/classification/train/X7.csv'\u001b[0m and \u001b[1;37m'test/X7.csv'\u001b[0m\n",
            "Data saved as \u001b[1;37m'dataset/classification/train/X8.csv'\u001b[0m and \u001b[1;37m'test/X8.csv'\u001b[0m\n",
            "Data saved as \u001b[1;37m'dataset/classification/train/X9.csv'\u001b[0m and \u001b[1;37m'test/X9.csv'\u001b[0m\n",
            "Data saved as \u001b[1;37m'dataset/classification/train/X10.csv'\u001b[0m and \u001b[1;37m'test/X10.csv'\u001b[0m\n",
            "\u001b[1;33mRegression\u001b[0m\n",
            "Data saved as \u001b[1;37m'dataset/regression/train/X1.csv'\u001b[0m and \u001b[1;37m'test/X1.csv'\u001b[0m\n",
            "Data saved as \u001b[1;37m'dataset/regression/train/X2.csv'\u001b[0m and \u001b[1;37m'test/X2.csv'\u001b[0m\n",
            "Data saved as \u001b[1;37m'dataset/regression/train/X3.csv'\u001b[0m and \u001b[1;37m'test/X3.csv'\u001b[0m\n",
            "Data saved as \u001b[1;37m'dataset/regression/train/X4.csv'\u001b[0m and \u001b[1;37m'test/X4.csv'\u001b[0m\n",
            "Data saved as \u001b[1;37m'dataset/regression/train/X5.csv'\u001b[0m and \u001b[1;37m'test/X5.csv'\u001b[0m\n",
            "Data saved as \u001b[1;37m'dataset/regression/train/X6.csv'\u001b[0m and \u001b[1;37m'test/X6.csv'\u001b[0m\n",
            "Data saved as \u001b[1;37m'dataset/regression/train/X7.csv'\u001b[0m and \u001b[1;37m'test/X7.csv'\u001b[0m\n",
            "Data saved as \u001b[1;37m'dataset/regression/train/X8.csv'\u001b[0m and \u001b[1;37m'test/X8.csv'\u001b[0m\n",
            "Data saved as \u001b[1;37m'dataset/regression/train/X9.csv'\u001b[0m and \u001b[1;37m'test/X9.csv'\u001b[0m\n",
            "Data saved as \u001b[1;37m'dataset/regression/train/X10.csv'\u001b[0m and \u001b[1;37m'test/X10.csv'\u001b[0m\n"
          ]
        }
      ],
      "source": [
        "def load_and_split_data(CSV_file, test_size=0.3, random_state=42):\n",
        "  \"\"\"\n",
        "  Loads a CSV file and splits it into training and test sets.\n",
        "\n",
        "  Parameters:\n",
        "  CSV_file (str): The path to the CSV file.\n",
        "  test_size (float): The proportion of the data to include in the test split.\n",
        "  random_state (int): The seed used by the random number generator.\n",
        "\n",
        "  Returns:\n",
        "  tuple: A tuple containing the training and test sets.\n",
        "  \"\"\"\n",
        "  df = pd.read_csv(CSV_file, header=None)\n",
        "  X, y = df.iloc[:, :-1].values, df.iloc[:, -1].values\n",
        "  return train_test_split(X, y, test_size=test_size, random_state=random_state)\n",
        "\n",
        "def save_split_data(data_splits, iteration, headers, save_dir=\"datasets\", sep=\"\"):\n",
        "    \"\"\"\n",
        "    Saves the combined X_train, y_train, X_test, and y_test for one iteration to CSV files.\n",
        "    The files are named X{iteration}_train.csv and X{iteration}_test.csv.\n",
        "\n",
        "    Parameters:\n",
        "    data_splits (tuple): A tuple containing the training and test sets.\n",
        "    iteration (int): The iteration number.\n",
        "    headers (list): A list of column headers for the CSV files.\n",
        "    save_dir (str): The directory where the CSV files will be saved.\n",
        "    \"\"\"\n",
        "    if not os.path.exists(save_dir):\n",
        "      os.makedirs(save_dir)\n",
        "\n",
        "    train_dir = os.path.join(save_dir, 'train')\n",
        "    test_dir = os.path.join(save_dir, 'test')\n",
        "\n",
        "    os.makedirs(train_dir, exist_ok=True)\n",
        "    os.makedirs(test_dir, exist_ok=True)\n",
        "\n",
        "    X_train, X_test, y_train, y_test = data_splits\n",
        "\n",
        "    def save_data(X, y, filename):\n",
        "        combined_data = pd.DataFrame(X)\n",
        "        combined_data['target'] = y\n",
        "        combined_data.columns = headers\n",
        "        combined_data.to_csv(filename, index=False)\n",
        "\n",
        "    save_data(X_train, y_train, os.path.join(train_dir, f\"X{iteration}.csv\"))\n",
        "    save_data(X_test, y_test, os.path.join(test_dir, f\"X{iteration}.csv\"))\n",
        "\n",
        "    print(f\"{sep*2}Data saved as {color.WHITE_BOLD}'{save_dir}/train/X{iteration}.csv'{color.END} and {color.WHITE_BOLD}'test/X{iteration}.csv'{color.END}\")\n",
        "\n",
        "def q1(test_percent=30, sep=\"\"):\n",
        "  for type in [\"classification\", \"regression\"]:\n",
        "    print(f\"{color.YELLOW_BOLD}{sep}{type.title()}{color.END}\")\n",
        "    if type == \"classification\":\n",
        "        CSV = 'w3classif.csv'\n",
        "        headers = [\"feature1\", \"feature2\", \"target\"]\n",
        "    elif type == \"regression\":\n",
        "        CSV = 'w3regr.csv'\n",
        "        headers = [\"Feature1\", \"Feature2\"]\n",
        "    else:\n",
        "        exit\n",
        "\n",
        "    for i in range(1,11):\n",
        "        data_splits = load_and_split_data(CSV, test_size=(test_percent/100), random_state=None)  # random_state=None for variability\n",
        "        save_split_data(data_splits, i, headers, f\"dataset/{type}\", sep)\n",
        "q1()"
      ]
    },
    {
      "cell_type": "markdown",
      "metadata": {
        "id": "_gSj0SfW-W1f"
      },
      "source": [
        "### Q2: Calculate the training and test set errors over all of the datasets from Q1 and calculate the average training and test errors over the 10 trials. Are the averages lower or higher than the values you found in Prac W3 (or alternatively compare with the values for the first of your 10 runs)?\n"
      ]
    },
    {
      "cell_type": "code",
      "source": [
        "# Specfic Imports\n",
        "from sklearn.metrics import accuracy_score, mean_squared_error"
      ],
      "metadata": {
        "id": "w6KPCeoezsTR"
      },
      "execution_count": 7,
      "outputs": []
    },
    {
      "cell_type": "code",
      "execution_count": 10,
      "metadata": {
        "id": "uQIDtQYD-dV7",
        "colab": {
          "base_uri": "https://localhost:8080/"
        },
        "outputId": "0cec91bd-1b33-4789-f109-16e0e00fdecf"
      },
      "outputs": [
        {
          "output_type": "stream",
          "name": "stdout",
          "text": [
            "\u001b[1;33mClassification\u001b[0m\n",
            "\u001b[1;34mErrors:\u001b[0m\n",
            "      Average of Classification Train Error (KNN): \u001b[1;37m0.009999999999999976\u001b[0m\n",
            "\u001b[1;34mErrors:\u001b[0m\n",
            "      Average of Classification Test Error (KNN): \u001b[1;37m0.016666666666666684\u001b[0m\n",
            "\u001b[1;33mRegression\u001b[0m\n",
            "\u001b[1;34mErrors:\u001b[0m\n",
            "      Average of Regression Train Error (KNN): \u001b[1;37m75.27822167000758\u001b[0m\n",
            "\u001b[1;34mErrors:\u001b[0m\n",
            "      Average of Regression Test Error (KNN): \u001b[1;37m240.18796738284217\u001b[0m\n"
          ]
        }
      ],
      "source": [
        "def knn_error(model, X, y):\n",
        "    model.fit(X, y)\n",
        "    y_pred = model.predict(X)\n",
        "    if isinstance(model, KNeighborsClassifier): error = 1 - accuracy_score(y, y_pred)\n",
        "    elif isinstance(model, KNeighborsRegressor): error = mean_squared_error(y, y_pred)\n",
        "    else: exit\n",
        "\n",
        "    return error\n",
        "\n",
        "def q2(sep=\"\"):\n",
        "  for type in [\"classification\", \"regression\"]:\n",
        "    print(f\"{color.YELLOW_BOLD}{sep}{type.title()}{color.END}\")\n",
        "\n",
        "    if type == \"classification\": model_knn = KNeighborsClassifier(n_neighbors=5)\n",
        "    elif type == \"regression\": model_knn = KNeighborsRegressor(n_neighbors=5)\n",
        "    else: exit\n",
        "\n",
        "    for data_type in [\"train\", \"test\"]:\n",
        "      errors = []\n",
        "      for i in range(1, 11):\n",
        "        X = pd.read_csv(f'dataset/{type}/{data_type}/X{i}.csv')\n",
        "        y = X.iloc[:, -1].values\n",
        "        error = knn_error(model_knn, X, y)\n",
        "        errors.append(error)\n",
        "      avg_error = np.mean(errors)\n",
        "      print(f\"\"\"{color.BLUE_BOLD}{sep*2}Errors:{color.END}\n",
        "      {sep*2}Average of {type.title()} {data_type.title()} Error (KNN): {color.WHITE_BOLD}{avg_error}{color.END}\"\"\")\n",
        "\n",
        "q2()"
      ]
    },
    {
      "cell_type": "markdown",
      "metadata": {
        "id": "L5QypmlR-Yd5"
      },
      "source": [
        "### Question 3: Repeat Q1 and Q2 but use a different split – try 50/50 or 90/10. Compare your average error values with those you found in Q2."
      ]
    },
    {
      "cell_type": "code",
      "execution_count": null,
      "metadata": {
        "id": "5hlse_bb-m43",
        "colab": {
          "base_uri": "https://localhost:8080/"
        },
        "outputId": "7cd98f34-f3df-4a0e-eb9c-4519f942da9a"
      },
      "outputs": [
        {
          "output_type": "stream",
          "name": "stdout",
          "text": [
            "\u001b[1;32mQ1 & Q2 for 50/50 \u001b[0m\n",
            "\u001b[1;33m\tClassification\u001b[0m\n",
            "\t\tData saved as \u001b[1;37m'dataset/classification/train/X1.csv'\u001b[0m and \u001b[1;37m'test/X1.csv'\u001b[0m\n",
            "\t\tData saved as \u001b[1;37m'dataset/classification/train/X2.csv'\u001b[0m and \u001b[1;37m'test/X2.csv'\u001b[0m\n",
            "\t\tData saved as \u001b[1;37m'dataset/classification/train/X3.csv'\u001b[0m and \u001b[1;37m'test/X3.csv'\u001b[0m\n",
            "\t\tData saved as \u001b[1;37m'dataset/classification/train/X4.csv'\u001b[0m and \u001b[1;37m'test/X4.csv'\u001b[0m\n",
            "\t\tData saved as \u001b[1;37m'dataset/classification/train/X5.csv'\u001b[0m and \u001b[1;37m'test/X5.csv'\u001b[0m\n",
            "\t\tData saved as \u001b[1;37m'dataset/classification/train/X6.csv'\u001b[0m and \u001b[1;37m'test/X6.csv'\u001b[0m\n",
            "\t\tData saved as \u001b[1;37m'dataset/classification/train/X7.csv'\u001b[0m and \u001b[1;37m'test/X7.csv'\u001b[0m\n",
            "\t\tData saved as \u001b[1;37m'dataset/classification/train/X8.csv'\u001b[0m and \u001b[1;37m'test/X8.csv'\u001b[0m\n",
            "\t\tData saved as \u001b[1;37m'dataset/classification/train/X9.csv'\u001b[0m and \u001b[1;37m'test/X9.csv'\u001b[0m\n",
            "\t\tData saved as \u001b[1;37m'dataset/classification/train/X10.csv'\u001b[0m and \u001b[1;37m'test/X10.csv'\u001b[0m\n",
            "\u001b[1;33m\tRegression\u001b[0m\n",
            "\t\tData saved as \u001b[1;37m'dataset/regression/train/X1.csv'\u001b[0m and \u001b[1;37m'test/X1.csv'\u001b[0m\n",
            "\t\tData saved as \u001b[1;37m'dataset/regression/train/X2.csv'\u001b[0m and \u001b[1;37m'test/X2.csv'\u001b[0m\n",
            "\t\tData saved as \u001b[1;37m'dataset/regression/train/X3.csv'\u001b[0m and \u001b[1;37m'test/X3.csv'\u001b[0m\n",
            "\t\tData saved as \u001b[1;37m'dataset/regression/train/X4.csv'\u001b[0m and \u001b[1;37m'test/X4.csv'\u001b[0m\n",
            "\t\tData saved as \u001b[1;37m'dataset/regression/train/X5.csv'\u001b[0m and \u001b[1;37m'test/X5.csv'\u001b[0m\n",
            "\t\tData saved as \u001b[1;37m'dataset/regression/train/X6.csv'\u001b[0m and \u001b[1;37m'test/X6.csv'\u001b[0m\n",
            "\t\tData saved as \u001b[1;37m'dataset/regression/train/X7.csv'\u001b[0m and \u001b[1;37m'test/X7.csv'\u001b[0m\n",
            "\t\tData saved as \u001b[1;37m'dataset/regression/train/X8.csv'\u001b[0m and \u001b[1;37m'test/X8.csv'\u001b[0m\n",
            "\t\tData saved as \u001b[1;37m'dataset/regression/train/X9.csv'\u001b[0m and \u001b[1;37m'test/X9.csv'\u001b[0m\n",
            "\t\tData saved as \u001b[1;37m'dataset/regression/train/X10.csv'\u001b[0m and \u001b[1;37m'test/X10.csv'\u001b[0m\n",
            "\u001b[1;33m\tClassification\u001b[0m\n",
            "\u001b[1;34m\t\tErrors:\u001b[0m\n",
            "    \t\tAverage of Classification Test Error (KNN): \u001b[1;37m0.01100000000000001\u001b[0m\n",
            "\u001b[1;33m\tRegression\u001b[0m\n",
            "\u001b[1;34m\t\tErrors:\u001b[0m\n",
            "    \t\tAverage of Regression Test Error (KNN): \u001b[1;37m159.07964394581546\u001b[0m\n",
            "\n",
            "\n",
            "\u001b[1;32mQ1 & Q2 for 90/10 \u001b[0m\n",
            "\u001b[1;33m\tClassification\u001b[0m\n",
            "\t\tData saved as \u001b[1;37m'dataset/classification/train/X1.csv'\u001b[0m and \u001b[1;37m'test/X1.csv'\u001b[0m\n",
            "\t\tData saved as \u001b[1;37m'dataset/classification/train/X2.csv'\u001b[0m and \u001b[1;37m'test/X2.csv'\u001b[0m\n",
            "\t\tData saved as \u001b[1;37m'dataset/classification/train/X3.csv'\u001b[0m and \u001b[1;37m'test/X3.csv'\u001b[0m\n",
            "\t\tData saved as \u001b[1;37m'dataset/classification/train/X4.csv'\u001b[0m and \u001b[1;37m'test/X4.csv'\u001b[0m\n",
            "\t\tData saved as \u001b[1;37m'dataset/classification/train/X5.csv'\u001b[0m and \u001b[1;37m'test/X5.csv'\u001b[0m\n",
            "\t\tData saved as \u001b[1;37m'dataset/classification/train/X6.csv'\u001b[0m and \u001b[1;37m'test/X6.csv'\u001b[0m\n",
            "\t\tData saved as \u001b[1;37m'dataset/classification/train/X7.csv'\u001b[0m and \u001b[1;37m'test/X7.csv'\u001b[0m\n",
            "\t\tData saved as \u001b[1;37m'dataset/classification/train/X8.csv'\u001b[0m and \u001b[1;37m'test/X8.csv'\u001b[0m\n",
            "\t\tData saved as \u001b[1;37m'dataset/classification/train/X9.csv'\u001b[0m and \u001b[1;37m'test/X9.csv'\u001b[0m\n",
            "\t\tData saved as \u001b[1;37m'dataset/classification/train/X10.csv'\u001b[0m and \u001b[1;37m'test/X10.csv'\u001b[0m\n",
            "\u001b[1;33m\tRegression\u001b[0m\n",
            "\t\tData saved as \u001b[1;37m'dataset/regression/train/X1.csv'\u001b[0m and \u001b[1;37m'test/X1.csv'\u001b[0m\n",
            "\t\tData saved as \u001b[1;37m'dataset/regression/train/X2.csv'\u001b[0m and \u001b[1;37m'test/X2.csv'\u001b[0m\n",
            "\t\tData saved as \u001b[1;37m'dataset/regression/train/X3.csv'\u001b[0m and \u001b[1;37m'test/X3.csv'\u001b[0m\n",
            "\t\tData saved as \u001b[1;37m'dataset/regression/train/X4.csv'\u001b[0m and \u001b[1;37m'test/X4.csv'\u001b[0m\n",
            "\t\tData saved as \u001b[1;37m'dataset/regression/train/X5.csv'\u001b[0m and \u001b[1;37m'test/X5.csv'\u001b[0m\n",
            "\t\tData saved as \u001b[1;37m'dataset/regression/train/X6.csv'\u001b[0m and \u001b[1;37m'test/X6.csv'\u001b[0m\n",
            "\t\tData saved as \u001b[1;37m'dataset/regression/train/X7.csv'\u001b[0m and \u001b[1;37m'test/X7.csv'\u001b[0m\n",
            "\t\tData saved as \u001b[1;37m'dataset/regression/train/X8.csv'\u001b[0m and \u001b[1;37m'test/X8.csv'\u001b[0m\n",
            "\t\tData saved as \u001b[1;37m'dataset/regression/train/X9.csv'\u001b[0m and \u001b[1;37m'test/X9.csv'\u001b[0m\n",
            "\t\tData saved as \u001b[1;37m'dataset/regression/train/X10.csv'\u001b[0m and \u001b[1;37m'test/X10.csv'\u001b[0m\n",
            "\u001b[1;33m\tClassification\u001b[0m\n",
            "\u001b[1;34m\t\tErrors:\u001b[0m\n",
            "    \t\tAverage of Classification Test Error (KNN): \u001b[1;37m0.017500000000000005\u001b[0m\n",
            "\u001b[1;33m\tRegression\u001b[0m\n",
            "\u001b[1;34m\t\tErrors:\u001b[0m\n",
            "    \t\tAverage of Regression Test Error (KNN): \u001b[1;37m708.345524736038\u001b[0m\n",
            "\n",
            "\n"
          ]
        }
      ],
      "source": [
        "def q3(test_percent):\n",
        "  print(f\"{color.GREEN_BOLD}Q3 for {100-test_percent}/{test_percent} {color.END}\")\n",
        "  q1(test_percent, \"\\t\")\n",
        "  q2(\"\\t\")\n",
        "  print(\"\\n\")\n",
        "\n",
        "q3(50)\n",
        "q3(10)"
      ]
    },
    {
      "cell_type": "markdown",
      "metadata": {
        "id": "j4na0AUP-Z4i"
      },
      "source": [
        "### Q4: Calculate the sample standard deviation of your training and test set error values over the 10 trials from Q2 and Q3. What do you observe?"
      ]
    },
    {
      "cell_type": "code",
      "execution_count": null,
      "metadata": {
        "id": "Y6ZRBkeH-nX1",
        "colab": {
          "base_uri": "https://localhost:8080/"
        },
        "outputId": "ffae2b0b-944b-476f-9591-332c2ffdc30d"
      },
      "outputs": [
        {
          "output_type": "stream",
          "name": "stdout",
          "text": [
            "\u001b[1;32mQ1 & Q2 for 50/50 \u001b[0m\n",
            "\u001b[1;33m\tClassification\u001b[0m\n",
            "\t\tData saved as \u001b[1;37m'dataset/classification/train/X1.csv'\u001b[0m and \u001b[1;37m'test/X1.csv'\u001b[0m\n",
            "\t\tData saved as \u001b[1;37m'dataset/classification/train/X2.csv'\u001b[0m and \u001b[1;37m'test/X2.csv'\u001b[0m\n",
            "\t\tData saved as \u001b[1;37m'dataset/classification/train/X3.csv'\u001b[0m and \u001b[1;37m'test/X3.csv'\u001b[0m\n",
            "\t\tData saved as \u001b[1;37m'dataset/classification/train/X4.csv'\u001b[0m and \u001b[1;37m'test/X4.csv'\u001b[0m\n",
            "\t\tData saved as \u001b[1;37m'dataset/classification/train/X5.csv'\u001b[0m and \u001b[1;37m'test/X5.csv'\u001b[0m\n",
            "\t\tData saved as \u001b[1;37m'dataset/classification/train/X6.csv'\u001b[0m and \u001b[1;37m'test/X6.csv'\u001b[0m\n",
            "\t\tData saved as \u001b[1;37m'dataset/classification/train/X7.csv'\u001b[0m and \u001b[1;37m'test/X7.csv'\u001b[0m\n",
            "\t\tData saved as \u001b[1;37m'dataset/classification/train/X8.csv'\u001b[0m and \u001b[1;37m'test/X8.csv'\u001b[0m\n",
            "\t\tData saved as \u001b[1;37m'dataset/classification/train/X9.csv'\u001b[0m and \u001b[1;37m'test/X9.csv'\u001b[0m\n",
            "\t\tData saved as \u001b[1;37m'dataset/classification/train/X10.csv'\u001b[0m and \u001b[1;37m'test/X10.csv'\u001b[0m\n",
            "\u001b[1;33m\tRegression\u001b[0m\n",
            "\t\tData saved as \u001b[1;37m'dataset/regression/train/X1.csv'\u001b[0m and \u001b[1;37m'test/X1.csv'\u001b[0m\n",
            "\t\tData saved as \u001b[1;37m'dataset/regression/train/X2.csv'\u001b[0m and \u001b[1;37m'test/X2.csv'\u001b[0m\n",
            "\t\tData saved as \u001b[1;37m'dataset/regression/train/X3.csv'\u001b[0m and \u001b[1;37m'test/X3.csv'\u001b[0m\n",
            "\t\tData saved as \u001b[1;37m'dataset/regression/train/X4.csv'\u001b[0m and \u001b[1;37m'test/X4.csv'\u001b[0m\n",
            "\t\tData saved as \u001b[1;37m'dataset/regression/train/X5.csv'\u001b[0m and \u001b[1;37m'test/X5.csv'\u001b[0m\n",
            "\t\tData saved as \u001b[1;37m'dataset/regression/train/X6.csv'\u001b[0m and \u001b[1;37m'test/X6.csv'\u001b[0m\n",
            "\t\tData saved as \u001b[1;37m'dataset/regression/train/X7.csv'\u001b[0m and \u001b[1;37m'test/X7.csv'\u001b[0m\n",
            "\t\tData saved as \u001b[1;37m'dataset/regression/train/X8.csv'\u001b[0m and \u001b[1;37m'test/X8.csv'\u001b[0m\n",
            "\t\tData saved as \u001b[1;37m'dataset/regression/train/X9.csv'\u001b[0m and \u001b[1;37m'test/X9.csv'\u001b[0m\n",
            "\t\tData saved as \u001b[1;37m'dataset/regression/train/X10.csv'\u001b[0m and \u001b[1;37m'test/X10.csv'\u001b[0m\n",
            "\u001b[1;33m\tClassification\u001b[0m\n",
            "\u001b[1;34m\t\tErrors:\u001b[0m\n",
            "    \t\tAverage of Classification Test Error (KNN): \u001b[1;37m0.01050000000000001\u001b[0m\n",
            "    \t\tStandard Devation of Classification Test Error (KNN): \u001b[1;37m0.002838231060987736\u001b[0m\n",
            "\u001b[1;33m\tRegression\u001b[0m\n",
            "\u001b[1;34m\t\tErrors:\u001b[0m\n",
            "    \t\tAverage of Regression Test Error (KNN): \u001b[1;37m159.95766209964103\u001b[0m\n",
            "    \t\tStandard Devation of Regression Test Error (KNN): \u001b[1;37m83.71291990178813\u001b[0m\n",
            "\n",
            "\n",
            "\u001b[1;32mQ1 & Q2 for 90/10 \u001b[0m\n",
            "\u001b[1;33m\tClassification\u001b[0m\n",
            "\t\tData saved as \u001b[1;37m'dataset/classification/train/X1.csv'\u001b[0m and \u001b[1;37m'test/X1.csv'\u001b[0m\n",
            "\t\tData saved as \u001b[1;37m'dataset/classification/train/X2.csv'\u001b[0m and \u001b[1;37m'test/X2.csv'\u001b[0m\n",
            "\t\tData saved as \u001b[1;37m'dataset/classification/train/X3.csv'\u001b[0m and \u001b[1;37m'test/X3.csv'\u001b[0m\n",
            "\t\tData saved as \u001b[1;37m'dataset/classification/train/X4.csv'\u001b[0m and \u001b[1;37m'test/X4.csv'\u001b[0m\n",
            "\t\tData saved as \u001b[1;37m'dataset/classification/train/X5.csv'\u001b[0m and \u001b[1;37m'test/X5.csv'\u001b[0m\n",
            "\t\tData saved as \u001b[1;37m'dataset/classification/train/X6.csv'\u001b[0m and \u001b[1;37m'test/X6.csv'\u001b[0m\n",
            "\t\tData saved as \u001b[1;37m'dataset/classification/train/X7.csv'\u001b[0m and \u001b[1;37m'test/X7.csv'\u001b[0m\n",
            "\t\tData saved as \u001b[1;37m'dataset/classification/train/X8.csv'\u001b[0m and \u001b[1;37m'test/X8.csv'\u001b[0m\n",
            "\t\tData saved as \u001b[1;37m'dataset/classification/train/X9.csv'\u001b[0m and \u001b[1;37m'test/X9.csv'\u001b[0m\n",
            "\t\tData saved as \u001b[1;37m'dataset/classification/train/X10.csv'\u001b[0m and \u001b[1;37m'test/X10.csv'\u001b[0m\n",
            "\u001b[1;33m\tRegression\u001b[0m\n",
            "\t\tData saved as \u001b[1;37m'dataset/regression/train/X1.csv'\u001b[0m and \u001b[1;37m'test/X1.csv'\u001b[0m\n",
            "\t\tData saved as \u001b[1;37m'dataset/regression/train/X2.csv'\u001b[0m and \u001b[1;37m'test/X2.csv'\u001b[0m\n",
            "\t\tData saved as \u001b[1;37m'dataset/regression/train/X3.csv'\u001b[0m and \u001b[1;37m'test/X3.csv'\u001b[0m\n",
            "\t\tData saved as \u001b[1;37m'dataset/regression/train/X4.csv'\u001b[0m and \u001b[1;37m'test/X4.csv'\u001b[0m\n",
            "\t\tData saved as \u001b[1;37m'dataset/regression/train/X5.csv'\u001b[0m and \u001b[1;37m'test/X5.csv'\u001b[0m\n",
            "\t\tData saved as \u001b[1;37m'dataset/regression/train/X6.csv'\u001b[0m and \u001b[1;37m'test/X6.csv'\u001b[0m\n",
            "\t\tData saved as \u001b[1;37m'dataset/regression/train/X7.csv'\u001b[0m and \u001b[1;37m'test/X7.csv'\u001b[0m\n",
            "\t\tData saved as \u001b[1;37m'dataset/regression/train/X8.csv'\u001b[0m and \u001b[1;37m'test/X8.csv'\u001b[0m\n",
            "\t\tData saved as \u001b[1;37m'dataset/regression/train/X9.csv'\u001b[0m and \u001b[1;37m'test/X9.csv'\u001b[0m\n",
            "\t\tData saved as \u001b[1;37m'dataset/regression/train/X10.csv'\u001b[0m and \u001b[1;37m'test/X10.csv'\u001b[0m\n",
            "\u001b[1;33m\tClassification\u001b[0m\n",
            "\u001b[1;34m\t\tErrors:\u001b[0m\n",
            "    \t\tAverage of Classification Test Error (KNN): \u001b[1;37m0.020000000000000007\u001b[0m\n",
            "    \t\tStandard Devation of Classification Test Error (KNN): \u001b[1;37m0.028382310609877337\u001b[0m\n",
            "\u001b[1;33m\tRegression\u001b[0m\n",
            "\u001b[1;34m\t\tErrors:\u001b[0m\n",
            "    \t\tAverage of Regression Test Error (KNN): \u001b[1;37m492.2766304021858\u001b[0m\n",
            "    \t\tStandard Devation of Regression Test Error (KNN): \u001b[1;37m560.2212132059451\u001b[0m\n",
            "\n",
            "\n"
          ]
        }
      ],
      "source": [
        "def q4_helper(sep=\"\"):\n",
        "  for type in [\"classification\", \"regression\"]:\n",
        "    print(f\"{color.YELLOW_BOLD}{sep}{type.title()}{color.END}\")\n",
        "\n",
        "    if type == \"classification\": model_knn = KNeighborsClassifier(n_neighbors=5)\n",
        "    elif type == \"regression\": model_knn = KNeighborsRegressor(n_neighbors=5)\n",
        "    else: exit\n",
        "\n",
        "    for data_type in [\"train\", \"test\"]:\n",
        "      errors = []\n",
        "      for i in range(1, 11):\n",
        "        X = pd.read_csv(f'dataset/{type}/{data_type}/X{i}.csv')\n",
        "        y = X.iloc[:, -1].values\n",
        "        error = knn_error(model_knn, X, y)\n",
        "        errors.append(error)\n",
        "      avg_error = np.mean(errors)\n",
        "      std_error = np.std(errors, ddof=1)\n",
        "\n",
        "    print(f\"\"\"{color.BLUE_BOLD}{sep*2}Errors:{color.END}\n",
        "    {sep*2}Average of {type.title()} {data_type.title()} Error (KNN): {color.WHITE_BOLD}{avg_error}{color.END}\n",
        "    {sep*2}Standard Devation of {type.title()} {data_type.title()} Error (KNN): {color.WHITE_BOLD}{std_error}{color.END}\"\"\")\n",
        "\n",
        "def q4(test_percent):\n",
        "  print(f\"{color.GREEN_BOLD}Q1 & Q2 for {100-test_percent}/{test_percent} {color.END}\")\n",
        "  q1(test_percent, \"\\t\")\n",
        "  q4_helper(\"\\t\")\n",
        "  print(\"\\n\")\n",
        "\n",
        "q4(50)\n",
        "q4(10)"
      ]
    },
    {
      "cell_type": "markdown",
      "metadata": {
        "id": "jdQZE4Yl-bSp"
      },
      "source": [
        "### Q5: Perform 10-fold cross validation using your model and the (original) dataset (use existing Matlab or python functions to do this). What are the mean and standard devations of the cross-validation error?"
      ]
    },
    {
      "cell_type": "code",
      "source": [
        "# Specific Imports\n",
        "from sklearn.model_selection import cross_val_score"
      ],
      "metadata": {
        "id": "XGWqy4v9DuAL"
      },
      "execution_count": null,
      "outputs": []
    },
    {
      "cell_type": "code",
      "execution_count": null,
      "metadata": {
        "id": "ich62oC4-nsy",
        "colab": {
          "base_uri": "https://localhost:8080/"
        },
        "outputId": "6c4124a8-8e4e-44bc-b5ad-35ee22a5f9b1"
      },
      "outputs": [
        {
          "output_type": "stream",
          "name": "stdout",
          "text": [
            "\u001b[1;33mClassification\u001b[0m\n",
            "\u001b[1;34mErrors:\u001b[0m\n",
            "    Average of Classification Error (KNN): \u001b[1;37m0.9925\u001b[0m\n",
            "    Standard Devation of Classification Error (KNN): \u001b[1;37m0.01145643923738961\u001b[0m\n",
            "\u001b[1;33mRegression\u001b[0m\n",
            "\u001b[1;34mErrors:\u001b[0m\n",
            "    Average of Regression Error (KNN): \u001b[1;37m-54.75366734059188\u001b[0m\n",
            "    Standard Devation of Regression Error (KNN): \u001b[1;37m88.67937735473404\u001b[0m\n"
          ]
        }
      ],
      "source": [
        "def q5(sep=\"\"):\n",
        "  for type in [\"classification\", \"regression\"]:\n",
        "    print(f\"{color.YELLOW_BOLD}{sep}{type.title()}{color.END}\")\n",
        "    if type == \"classification\": CSV_file, model_knn, scoring = \"w3classif.csv\", KNeighborsClassifier(n_neighbors=5), 'accuracy'\n",
        "    elif type == \"regression\": CSV_file, model_knn, scoring = \"w3regr.csv\", KNeighborsRegressor(n_neighbors=5), 'neg_mean_squared_error'\n",
        "    else: exit\n",
        "\n",
        "    X = pd.read_csv(f'{CSV_file}')\n",
        "    y = X.iloc[:, -1].values\n",
        "    cv_score = cross_val_score(model_knn, X, y, cv=10, scoring=scoring)\n",
        "    avg_error, std_error = np.mean(cv_score), np.std(cv_score)\n",
        "\n",
        "    print(f\"\"\"{color.BLUE_BOLD}{sep*2}Errors:{color.END}\n",
        "    {sep*2}Average of {type.title()} Error (KNN): {color.WHITE_BOLD}{avg_error}{color.END}\n",
        "    {sep*2}Standard Devation of {type.title()} Error (KNN): {color.WHITE_BOLD}{std_error}{color.END}\"\"\")\n",
        "\n",
        "q5()"
      ]
    }
  ],
  "metadata": {
    "colab": {
      "provenance": []
    },
    "kernelspec": {
      "display_name": "Python 3",
      "name": "python3"
    },
    "language_info": {
      "name": "python"
    }
  },
  "nbformat": 4,
  "nbformat_minor": 0
}