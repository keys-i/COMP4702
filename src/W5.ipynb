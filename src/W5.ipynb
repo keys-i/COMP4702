{
  "cells": [
    {
      "cell_type": "markdown",
      "metadata": {
        "id": "wEnOaZna9Rzx"
      },
      "source": [
        "# W5 Practicals - Performance"
      ]
    },
    {
      "cell_type": "markdown",
      "metadata": {
        "id": "agqTYvbq9hda"
      },
      "source": [
        "### Aims:\n",
        "* To gain some practical experience in evaluating supervised machine learning\n",
        "models.\n",
        "* To produce some assessable work for this subject."
      ]
    },
    {
      "cell_type": "markdown",
      "metadata": {
        "id": "baVAWGvq9wQL"
      },
      "source": [
        "### Procedure:\n",
        "In Prac W2 we applied k-NN and decision tree models to simple classification and regression datasets. The evaluation of the models was based on a single 70/30 split of the data into training and test data. In this Prac we will look more closely at the evaluation of these models.\n",
        "> Select one of the questions (3 – 6) from Prac W2 and revisit it for this prac."
      ]
    },
    {
      "cell_type": "markdown",
      "metadata": {
        "id": "PKmP9mvo-jhO"
      },
      "source": [
        "> On blackboard you will find a [link](https://docs.google.com/spreadsheets/d/1HAIDBp9ofIeEp5_braHBnwJ-heN8qdaxn5qk3q1c0vo/edit?usp=sharing) to a Google spreadsheet. Go there and enter your answers for Q2 – Q5."
      ]
    },
    {
      "cell_type": "code",
      "execution_count": 62,
      "metadata": {
        "id": "QoIDAKY__Jjn"
      },
      "outputs": [],
      "source": [
        "# Common Imports\n",
        "import pandas as pd\n",
        "import numpy as np\n",
        "from sklearn.model_selection import train_test_split"
      ]
    },
    {
      "cell_type": "code",
      "execution_count": 124,
      "metadata": {
        "id": "jUmAJwF5s8aw"
      },
      "outputs": [],
      "source": [
        "# ANSI color\n",
        "class color:\n",
        "  GREEN_BOLD = '\\033[1;32m'\n",
        "  YELLOW_BOLD = '\\033[1;33m'\n",
        "  BLUE_BOLD = '\\033[1;34m'\n",
        "  WHITE_BOLD = '\\033[1;37m'\n",
        "  END = '\\033[0m'"
      ]
    },
    {
      "cell_type": "markdown",
      "metadata": {
        "id": "u3RTU1y_9oXn"
      },
      "source": [
        "### Q1: Repeat Q2 from Prac W2 10 times, saving the 10 resulting training and test sets."
      ]
    },
    {
      "cell_type": "code",
      "execution_count": 51,
      "metadata": {
        "id": "W3JVLLgw_DeS"
      },
      "outputs": [],
      "source": [
        "# Specific Imports\n",
        "import os\n",
        "import datetime"
      ]
    },
    {
      "cell_type": "code",
      "execution_count": 162,
      "metadata": {
        "colab": {
          "base_uri": "https://localhost:8080/"
        },
        "id": "fmdSBOaC-dYf",
        "outputId": "9e141213-abda-4d9e-ee03-f5a1fd0f5f91"
      },
      "outputs": [
        {
          "output_type": "stream",
          "name": "stdout",
          "text": [
            "\u001b[1;33mClassification\u001b[0m\n",
            "Data saved as \u001b[1;37m'dataset/classification/train/X1.csv'\u001b[0m and \u001b[1;37m'test/X1.csv'\u001b[0m\n",
            "Data saved as \u001b[1;37m'dataset/classification/train/X2.csv'\u001b[0m and \u001b[1;37m'test/X2.csv'\u001b[0m\n",
            "Data saved as \u001b[1;37m'dataset/classification/train/X3.csv'\u001b[0m and \u001b[1;37m'test/X3.csv'\u001b[0m\n",
            "Data saved as \u001b[1;37m'dataset/classification/train/X4.csv'\u001b[0m and \u001b[1;37m'test/X4.csv'\u001b[0m\n",
            "Data saved as \u001b[1;37m'dataset/classification/train/X5.csv'\u001b[0m and \u001b[1;37m'test/X5.csv'\u001b[0m\n",
            "Data saved as \u001b[1;37m'dataset/classification/train/X6.csv'\u001b[0m and \u001b[1;37m'test/X6.csv'\u001b[0m\n",
            "Data saved as \u001b[1;37m'dataset/classification/train/X7.csv'\u001b[0m and \u001b[1;37m'test/X7.csv'\u001b[0m\n",
            "Data saved as \u001b[1;37m'dataset/classification/train/X8.csv'\u001b[0m and \u001b[1;37m'test/X8.csv'\u001b[0m\n",
            "Data saved as \u001b[1;37m'dataset/classification/train/X9.csv'\u001b[0m and \u001b[1;37m'test/X9.csv'\u001b[0m\n",
            "Data saved as \u001b[1;37m'dataset/classification/train/X10.csv'\u001b[0m and \u001b[1;37m'test/X10.csv'\u001b[0m\n",
            "\u001b[1;33mRegression\u001b[0m\n",
            "Data saved as \u001b[1;37m'dataset/regression/train/X1.csv'\u001b[0m and \u001b[1;37m'test/X1.csv'\u001b[0m\n",
            "Data saved as \u001b[1;37m'dataset/regression/train/X2.csv'\u001b[0m and \u001b[1;37m'test/X2.csv'\u001b[0m\n",
            "Data saved as \u001b[1;37m'dataset/regression/train/X3.csv'\u001b[0m and \u001b[1;37m'test/X3.csv'\u001b[0m\n",
            "Data saved as \u001b[1;37m'dataset/regression/train/X4.csv'\u001b[0m and \u001b[1;37m'test/X4.csv'\u001b[0m\n",
            "Data saved as \u001b[1;37m'dataset/regression/train/X5.csv'\u001b[0m and \u001b[1;37m'test/X5.csv'\u001b[0m\n",
            "Data saved as \u001b[1;37m'dataset/regression/train/X6.csv'\u001b[0m and \u001b[1;37m'test/X6.csv'\u001b[0m\n",
            "Data saved as \u001b[1;37m'dataset/regression/train/X7.csv'\u001b[0m and \u001b[1;37m'test/X7.csv'\u001b[0m\n",
            "Data saved as \u001b[1;37m'dataset/regression/train/X8.csv'\u001b[0m and \u001b[1;37m'test/X8.csv'\u001b[0m\n",
            "Data saved as \u001b[1;37m'dataset/regression/train/X9.csv'\u001b[0m and \u001b[1;37m'test/X9.csv'\u001b[0m\n",
            "Data saved as \u001b[1;37m'dataset/regression/train/X10.csv'\u001b[0m and \u001b[1;37m'test/X10.csv'\u001b[0m\n"
          ]
        }
      ],
      "source": [
        "def load_and_split_data(CSV_file, test_size=0.3, random_state=42):\n",
        "  \"\"\"\n",
        "  Loads a CSV file and splits it into training and test sets.\n",
        "\n",
        "  Parameters:\n",
        "  CSV_file (str): The path to the CSV file.\n",
        "  test_size (float): The proportion of the data to include in the test split.\n",
        "  random_state (int): The seed used by the random number generator.\n",
        "\n",
        "  Returns:\n",
        "  tuple: A tuple containing the training and test sets.\n",
        "  \"\"\"\n",
        "  df = pd.read_csv(CSV_file, header=None)\n",
        "  X, y = df.iloc[:, :-1].values, df.iloc[:, -1].values\n",
        "  return train_test_split(X, y, test_size=test_size, random_state=random_state)\n",
        "\n",
        "def save_split_data(data_splits, iteration, headers, save_dir=\"datasets\", sep=\"\"):\n",
        "    \"\"\"\n",
        "    Saves the combined X_train, y_train, X_test, and y_test for one iteration to CSV files.\n",
        "    The files are named X{iteration}_train.csv and X{iteration}_test.csv.\n",
        "\n",
        "    Parameters:\n",
        "    data_splits (tuple): A tuple containing the training and test sets.\n",
        "    iteration (int): The iteration number.\n",
        "    headers (list): A list of column headers for the CSV files.\n",
        "    save_dir (str): The directory where the CSV files will be saved.\n",
        "    \"\"\"\n",
        "    if not os.path.exists(save_dir):\n",
        "      os.makedirs(save_dir)\n",
        "\n",
        "    train_dir = os.path.join(save_dir, 'train')\n",
        "    test_dir = os.path.join(save_dir, 'test')\n",
        "\n",
        "    os.makedirs(train_dir, exist_ok=True)\n",
        "    os.makedirs(test_dir, exist_ok=True)\n",
        "\n",
        "    X_train, X_test, y_train, y_test = data_splits\n",
        "\n",
        "    def save_data(X, y, filename):\n",
        "        combined_data = pd.DataFrame(X)\n",
        "        combined_data['target'] = y\n",
        "        combined_data.columns = headers\n",
        "        combined_data.to_csv(filename, index=False)\n",
        "\n",
        "    save_data(X_train, y_train, os.path.join(train_dir, f\"X{iteration}.csv\"))\n",
        "    save_data(X_test, y_test, os.path.join(test_dir, f\"X{iteration}.csv\"))\n",
        "\n",
        "    print(f\"{sep*2}Data saved as {color.WHITE_BOLD}'{save_dir}/train/X{iteration}.csv'{color.END} and {color.WHITE_BOLD}'test/X{iteration}.csv'{color.END}\")\n",
        "\n",
        "def q1(test_percent=30, sep=\"\"):\n",
        "  for type in [\"classification\", \"regression\"]:\n",
        "    print(f\"{color.YELLOW_BOLD}{sep}{type.title()}{color.END}\")\n",
        "    if type == \"classification\":\n",
        "        CSV = 'w3classif.csv'\n",
        "        headers = [\"feature1\", \"feature2\", \"target\"]\n",
        "    elif type == \"regression\":\n",
        "        CSV = 'w3regr.csv'\n",
        "        headers = [\"Feature1\", \"Feature2\"]\n",
        "    else:\n",
        "        exit\n",
        "\n",
        "    for i in range(1,11):\n",
        "        data_splits = load_and_split_data(CSV, test_size=(test_percent/100), random_state=None)  # random_state=None for variability\n",
        "        save_split_data(data_splits, i, headers, f\"dataset/{type}\", sep)\n",
        "q1()"
      ]
    },
    {
      "cell_type": "markdown",
      "metadata": {
        "id": "_gSj0SfW-W1f"
      },
      "source": [
        "### Q2: Calculate the training and test set errors over all of the datasets from Q1 and calculate the average training and test errors over the 10 trials. Are the averages lower or higher than the values you found in Prac W3 (or alternatively compare with the values for the first of your 10 runs)?\n"
      ]
    },
    {
      "cell_type": "code",
      "source": [
        "# Specfic Imports\n",
        "from sklearn.neighbors import KNeighborsClassifier, KNeighborsRegressor\n",
        "from sklearn.metrics import accuracy_score, mean_squared_error"
      ],
      "metadata": {
        "id": "w6KPCeoezsTR"
      },
      "execution_count": 163,
      "outputs": []
    },
    {
      "cell_type": "code",
      "execution_count": 164,
      "metadata": {
        "id": "uQIDtQYD-dV7",
        "colab": {
          "base_uri": "https://localhost:8080/"
        },
        "outputId": "97dca95d-1b95-4890-8727-13fcf3347b51"
      },
      "outputs": [
        {
          "output_type": "stream",
          "name": "stdout",
          "text": [
            "\u001b[1;33mClassification\u001b[0m\n",
            "\u001b[1;34mErrors:\u001b[0m\n",
            "    Average Classification Test Error (KNN): \u001b[1;37m0.014166666666666683\u001b[0m\n",
            "\u001b[1;33mRegression\u001b[0m\n",
            "\u001b[1;34mErrors:\u001b[0m\n",
            "    Average Regression Test Error (KNN): \u001b[1;37m101.40766707666766\u001b[0m\n"
          ]
        }
      ],
      "source": [
        "def knn_error(model, X, y):\n",
        "    model.fit(X, y)\n",
        "    y_pred = model.predict(X)\n",
        "    if isinstance(model, KNeighborsClassifier): error = 1 - accuracy_score(y, y_pred)\n",
        "    elif isinstance(model, KNeighborsRegressor): error = mean_squared_error(y, y_pred)\n",
        "    else: exit\n",
        "\n",
        "    return error\n",
        "\n",
        "def q2(sep=\"\"):\n",
        "  for type in [\"classification\", \"regression\"]:\n",
        "    print(f\"{color.YELLOW_BOLD}{sep}{type.title()}{color.END}\")\n",
        "\n",
        "    if type == \"classification\": model_knn = KNeighborsClassifier(n_neighbors=5)\n",
        "    elif type == \"regression\": model_knn = KNeighborsRegressor(n_neighbors=5)\n",
        "    else: exit\n",
        "\n",
        "    for data_type in [\"train\", \"test\"]:\n",
        "      errors = []\n",
        "      for i in range(1, 11):\n",
        "        X = pd.read_csv(f'dataset/{type}/{data_type}/X{i}.csv')\n",
        "        y = X.iloc[:, -1].values\n",
        "        error = knn_error(model_knn, X, y)\n",
        "        errors.append(error)\n",
        "      avg_error = np.mean(errors)\n",
        "    print(f\"\"\"{color.BLUE_BOLD}{sep*2}Errors:{color.END}\n",
        "    {sep*2}Average {type.title()} {data_type.title()} Error (KNN): {color.WHITE_BOLD}{avg_error}{color.END}\"\"\")\n",
        "q2()"
      ]
    },
    {
      "cell_type": "markdown",
      "metadata": {
        "id": "L5QypmlR-Yd5"
      },
      "source": [
        "### Question 3: Repeat Q1 and Q2 but use a different split – try 50/50 or 90/10. Compare your average error values with those you found in Q2."
      ]
    },
    {
      "cell_type": "code",
      "execution_count": 166,
      "metadata": {
        "id": "5hlse_bb-m43",
        "colab": {
          "base_uri": "https://localhost:8080/"
        },
        "outputId": "0201af2c-2443-4661-cc3b-070fe105aa8e"
      },
      "outputs": [
        {
          "output_type": "stream",
          "name": "stdout",
          "text": [
            "\u001b[1;32mQ1 & Q2 for 50/50 \u001b[0m\n",
            "\u001b[1;33m\tClassification\u001b[0m\n",
            "\t\tData saved as \u001b[1;37m'dataset/classification/train/X1.csv'\u001b[0m and \u001b[1;37m'test/X1.csv'\u001b[0m\n",
            "\t\tData saved as \u001b[1;37m'dataset/classification/train/X2.csv'\u001b[0m and \u001b[1;37m'test/X2.csv'\u001b[0m\n",
            "\t\tData saved as \u001b[1;37m'dataset/classification/train/X3.csv'\u001b[0m and \u001b[1;37m'test/X3.csv'\u001b[0m\n",
            "\t\tData saved as \u001b[1;37m'dataset/classification/train/X4.csv'\u001b[0m and \u001b[1;37m'test/X4.csv'\u001b[0m\n",
            "\t\tData saved as \u001b[1;37m'dataset/classification/train/X5.csv'\u001b[0m and \u001b[1;37m'test/X5.csv'\u001b[0m\n",
            "\t\tData saved as \u001b[1;37m'dataset/classification/train/X6.csv'\u001b[0m and \u001b[1;37m'test/X6.csv'\u001b[0m\n",
            "\t\tData saved as \u001b[1;37m'dataset/classification/train/X7.csv'\u001b[0m and \u001b[1;37m'test/X7.csv'\u001b[0m\n",
            "\t\tData saved as \u001b[1;37m'dataset/classification/train/X8.csv'\u001b[0m and \u001b[1;37m'test/X8.csv'\u001b[0m\n",
            "\t\tData saved as \u001b[1;37m'dataset/classification/train/X9.csv'\u001b[0m and \u001b[1;37m'test/X9.csv'\u001b[0m\n",
            "\t\tData saved as \u001b[1;37m'dataset/classification/train/X10.csv'\u001b[0m and \u001b[1;37m'test/X10.csv'\u001b[0m\n",
            "\u001b[1;33m\tRegression\u001b[0m\n",
            "\t\tData saved as \u001b[1;37m'dataset/regression/train/X1.csv'\u001b[0m and \u001b[1;37m'test/X1.csv'\u001b[0m\n",
            "\t\tData saved as \u001b[1;37m'dataset/regression/train/X2.csv'\u001b[0m and \u001b[1;37m'test/X2.csv'\u001b[0m\n",
            "\t\tData saved as \u001b[1;37m'dataset/regression/train/X3.csv'\u001b[0m and \u001b[1;37m'test/X3.csv'\u001b[0m\n",
            "\t\tData saved as \u001b[1;37m'dataset/regression/train/X4.csv'\u001b[0m and \u001b[1;37m'test/X4.csv'\u001b[0m\n",
            "\t\tData saved as \u001b[1;37m'dataset/regression/train/X5.csv'\u001b[0m and \u001b[1;37m'test/X5.csv'\u001b[0m\n",
            "\t\tData saved as \u001b[1;37m'dataset/regression/train/X6.csv'\u001b[0m and \u001b[1;37m'test/X6.csv'\u001b[0m\n",
            "\t\tData saved as \u001b[1;37m'dataset/regression/train/X7.csv'\u001b[0m and \u001b[1;37m'test/X7.csv'\u001b[0m\n",
            "\t\tData saved as \u001b[1;37m'dataset/regression/train/X8.csv'\u001b[0m and \u001b[1;37m'test/X8.csv'\u001b[0m\n",
            "\t\tData saved as \u001b[1;37m'dataset/regression/train/X9.csv'\u001b[0m and \u001b[1;37m'test/X9.csv'\u001b[0m\n",
            "\t\tData saved as \u001b[1;37m'dataset/regression/train/X10.csv'\u001b[0m and \u001b[1;37m'test/X10.csv'\u001b[0m\n",
            "\u001b[1;33m\tClassification\u001b[0m\n",
            "\u001b[1;34m\t\tErrors:\u001b[0m\n",
            "    \t\tAverage Classification Test Error (KNN): \u001b[1;37m0.01100000000000001\u001b[0m\n",
            "\u001b[1;33m\tRegression\u001b[0m\n",
            "\u001b[1;34m\t\tErrors:\u001b[0m\n",
            "    \t\tAverage Regression Test Error (KNN): \u001b[1;37m105.48528583958898\u001b[0m\n",
            "\n",
            "\n",
            "\u001b[1;32mQ1 & Q2 for 90/10 \u001b[0m\n",
            "\u001b[1;33m\tClassification\u001b[0m\n",
            "\t\tData saved as \u001b[1;37m'dataset/classification/train/X1.csv'\u001b[0m and \u001b[1;37m'test/X1.csv'\u001b[0m\n",
            "\t\tData saved as \u001b[1;37m'dataset/classification/train/X2.csv'\u001b[0m and \u001b[1;37m'test/X2.csv'\u001b[0m\n",
            "\t\tData saved as \u001b[1;37m'dataset/classification/train/X3.csv'\u001b[0m and \u001b[1;37m'test/X3.csv'\u001b[0m\n",
            "\t\tData saved as \u001b[1;37m'dataset/classification/train/X4.csv'\u001b[0m and \u001b[1;37m'test/X4.csv'\u001b[0m\n",
            "\t\tData saved as \u001b[1;37m'dataset/classification/train/X5.csv'\u001b[0m and \u001b[1;37m'test/X5.csv'\u001b[0m\n",
            "\t\tData saved as \u001b[1;37m'dataset/classification/train/X6.csv'\u001b[0m and \u001b[1;37m'test/X6.csv'\u001b[0m\n",
            "\t\tData saved as \u001b[1;37m'dataset/classification/train/X7.csv'\u001b[0m and \u001b[1;37m'test/X7.csv'\u001b[0m\n",
            "\t\tData saved as \u001b[1;37m'dataset/classification/train/X8.csv'\u001b[0m and \u001b[1;37m'test/X8.csv'\u001b[0m\n",
            "\t\tData saved as \u001b[1;37m'dataset/classification/train/X9.csv'\u001b[0m and \u001b[1;37m'test/X9.csv'\u001b[0m\n",
            "\t\tData saved as \u001b[1;37m'dataset/classification/train/X10.csv'\u001b[0m and \u001b[1;37m'test/X10.csv'\u001b[0m\n",
            "\u001b[1;33m\tRegression\u001b[0m\n",
            "\t\tData saved as \u001b[1;37m'dataset/regression/train/X1.csv'\u001b[0m and \u001b[1;37m'test/X1.csv'\u001b[0m\n",
            "\t\tData saved as \u001b[1;37m'dataset/regression/train/X2.csv'\u001b[0m and \u001b[1;37m'test/X2.csv'\u001b[0m\n",
            "\t\tData saved as \u001b[1;37m'dataset/regression/train/X3.csv'\u001b[0m and \u001b[1;37m'test/X3.csv'\u001b[0m\n",
            "\t\tData saved as \u001b[1;37m'dataset/regression/train/X4.csv'\u001b[0m and \u001b[1;37m'test/X4.csv'\u001b[0m\n",
            "\t\tData saved as \u001b[1;37m'dataset/regression/train/X5.csv'\u001b[0m and \u001b[1;37m'test/X5.csv'\u001b[0m\n",
            "\t\tData saved as \u001b[1;37m'dataset/regression/train/X6.csv'\u001b[0m and \u001b[1;37m'test/X6.csv'\u001b[0m\n",
            "\t\tData saved as \u001b[1;37m'dataset/regression/train/X7.csv'\u001b[0m and \u001b[1;37m'test/X7.csv'\u001b[0m\n",
            "\t\tData saved as \u001b[1;37m'dataset/regression/train/X8.csv'\u001b[0m and \u001b[1;37m'test/X8.csv'\u001b[0m\n",
            "\t\tData saved as \u001b[1;37m'dataset/regression/train/X9.csv'\u001b[0m and \u001b[1;37m'test/X9.csv'\u001b[0m\n",
            "\t\tData saved as \u001b[1;37m'dataset/regression/train/X10.csv'\u001b[0m and \u001b[1;37m'test/X10.csv'\u001b[0m\n",
            "\u001b[1;33m\tClassification\u001b[0m\n",
            "\u001b[1;34m\t\tErrors:\u001b[0m\n",
            "    \t\tAverage Classification Test Error (KNN): \u001b[1;37m0.015000000000000013\u001b[0m\n",
            "\u001b[1;33m\tRegression\u001b[0m\n",
            "\u001b[1;34m\t\tErrors:\u001b[0m\n",
            "    \t\tAverage Regression Test Error (KNN): \u001b[1;37m413.41558306138677\u001b[0m\n",
            "\n",
            "\n"
          ]
        }
      ],
      "source": [
        "def q1_q2(test_percent):\n",
        "  print(f\"{color.GREEN_BOLD}Q1 & Q2 for {100-test_percent}/{test_percent} {color.END}\")\n",
        "  q1(test_percent, \"\\t\")\n",
        "  q2(\"\\t\")\n",
        "  print(\"\\n\")\n",
        "\n",
        "q1_q2(50)\n",
        "q1_q2(10)"
      ]
    },
    {
      "cell_type": "markdown",
      "metadata": {
        "id": "j4na0AUP-Z4i"
      },
      "source": [
        "### Q4: Calculate the sample standard deviation of your training and test set error values over the 10 trials from Q2 and Q3. What do you observe?"
      ]
    },
    {
      "cell_type": "code",
      "execution_count": null,
      "metadata": {
        "id": "Y6ZRBkeH-nX1"
      },
      "outputs": [],
      "source": []
    },
    {
      "cell_type": "markdown",
      "metadata": {
        "id": "jdQZE4Yl-bSp"
      },
      "source": [
        "### Q5: Perform 10-fold cross validation using your model and the (original) dataset (use existing Matlab or python functions to do this). What are the mean and standard devations of the cross-validation error?"
      ]
    },
    {
      "cell_type": "code",
      "execution_count": null,
      "metadata": {
        "id": "ich62oC4-nsy"
      },
      "outputs": [],
      "source": []
    }
  ],
  "metadata": {
    "colab": {
      "provenance": []
    },
    "kernelspec": {
      "display_name": "Python 3",
      "name": "python3"
    },
    "language_info": {
      "name": "python"
    }
  },
  "nbformat": 4,
  "nbformat_minor": 0
}