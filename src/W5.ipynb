{
  "cells": [
    {
      "cell_type": "markdown",
      "metadata": {
        "id": "wEnOaZna9Rzx"
      },
      "source": [
        "# W5 Practicals - Performance"
      ]
    },
    {
      "cell_type": "markdown",
      "source": [
        "### Aims:\n",
        "* To gain some practical experience in evaluating supervised machine learning\n",
        "models.\n",
        "* To produce some assessable work for this subject."
      ],
      "metadata": {
        "id": "agqTYvbq9hda"
      }
    },
    {
      "cell_type": "markdown",
      "source": [
        "### Procedure:\n",
        "In Prac W2 we applied k-NN and decision tree models to simple classification and regression datasets. The evaluation of the models was based on a single 70/30 split of the data into training and test data. In this Prac we will look more closely at the evaluation of these models.\n",
        "> Select one of the questions (3 – 6) from Prac W2 and revisit it for this prac."
      ],
      "metadata": {
        "id": "baVAWGvq9wQL"
      }
    },
    {
      "cell_type": "markdown",
      "source": [
        "> On blackboard you will find a [link](https://docs.google.com/spreadsheets/d/1HAIDBp9ofIeEp5_braHBnwJ-heN8qdaxn5qk3q1c0vo/edit?usp=sharing) to a Google spreadsheet. Go there and enter your answers for Q2 – Q5."
      ],
      "metadata": {
        "id": "PKmP9mvo-jhO"
      }
    },
    {
      "cell_type": "code",
      "source": [
        "# Common Imports\n",
        "import pandas as pd"
      ],
      "metadata": {
        "id": "QoIDAKY__Jjn"
      },
      "execution_count": null,
      "outputs": []
    },
    {
      "cell_type": "markdown",
      "source": [
        "### Q1: Repeat Q2 from Prac W2 10 times, saving the 10 resulting training and test sets."
      ],
      "metadata": {
        "id": "u3RTU1y_9oXn"
      }
    },
    {
      "cell_type": "code",
      "source": [
        "# Specific Imports\n",
        "from sklearn.model_selection import train_test_split"
      ],
      "metadata": {
        "id": "W3JVLLgw_DeS"
      },
      "execution_count": null,
      "outputs": []
    },
    {
      "cell_type": "code",
      "source": [
        "CSV_FILE_1 = 'w3classif.csv'\n",
        "df1 = pd.read_csv(CSV_FILE_1, header=None)\n",
        "df1.columns = [\"Feature1\", \"Feature2\", \"Label\"]\n",
        "Xc, yc = df1.iloc[:, :-1].values, df1.iloc[:, -1].values\n",
        "Xc_train, Xc_test, yc_train, yc_test = train_test_split(Xc, yc, test_size=0.3, random_state=42)\n",
        "\n",
        "\n",
        "CSV_FILE_2 = 'w3regr.csv'\n",
        "df2 = pd.read_csv(CSV_FILE_2, header=None)\n",
        "df2.columns = [\"Feature1\", \"Feature2\"]\n",
        "Xr, yr = df2.iloc[:, :-1].values, df2.iloc[:, -1].values\n",
        "Xr_train, Xr_test, yr_train, yr_test = train_test_split(Xr, yr, test_size=0.3, random_state=42)"
      ],
      "metadata": {
        "id": "fmdSBOaC-dYf"
      },
      "execution_count": null,
      "outputs": []
    },
    {
      "cell_type": "markdown",
      "source": [
        "### Q2: Calculate the training and test set errors over all of the datasets from Q1 and calculate the average training and test errors over the 10 trials. Are the averages lower or higher than the values you found in Prac W3 (or alternatively compare with the values for the first of your 10 runs)?\n"
      ],
      "metadata": {
        "id": "_gSj0SfW-W1f"
      }
    },
    {
      "cell_type": "code",
      "source": [],
      "metadata": {
        "id": "uQIDtQYD-dV7"
      },
      "execution_count": null,
      "outputs": []
    },
    {
      "cell_type": "markdown",
      "source": [
        "### Question 3: Repeat Q1 and Q2 but use a different split – try 50/50 or 90/10. Compare your average error values with those you found in Q2."
      ],
      "metadata": {
        "id": "L5QypmlR-Yd5"
      }
    },
    {
      "cell_type": "code",
      "source": [],
      "metadata": {
        "id": "5hlse_bb-m43"
      },
      "execution_count": null,
      "outputs": []
    },
    {
      "cell_type": "markdown",
      "source": [
        "### Q4: Calculate the sample standard deviation of your training and test set error values over the 10 trials from Q2 and Q3. What do you observe?"
      ],
      "metadata": {
        "id": "j4na0AUP-Z4i"
      }
    },
    {
      "cell_type": "code",
      "source": [],
      "metadata": {
        "id": "Y6ZRBkeH-nX1"
      },
      "execution_count": null,
      "outputs": []
    },
    {
      "cell_type": "markdown",
      "source": [
        "### Q5: Perform 10-fold cross validation using your model and the (original) dataset (use existing Matlab or python functions to do this). What are the mean and standard devations of the cross-validation error?"
      ],
      "metadata": {
        "id": "jdQZE4Yl-bSp"
      }
    },
    {
      "cell_type": "code",
      "source": [],
      "metadata": {
        "id": "ich62oC4-nsy"
      },
      "execution_count": null,
      "outputs": []
    }
  ],
  "metadata": {
    "language_info": {
      "name": "python"
    },
    "colab": {
      "provenance": []
    }
  },
  "nbformat": 4,
  "nbformat_minor": 0
}