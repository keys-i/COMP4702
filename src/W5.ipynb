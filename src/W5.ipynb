{
  "cells": [
    {
      "cell_type": "markdown",
      "metadata": {
        "id": "wEnOaZna9Rzx"
      },
      "source": [
        "# W5 Practicals - Performance"
      ]
    },
    {
      "cell_type": "markdown",
      "metadata": {
        "id": "agqTYvbq9hda"
      },
      "source": [
        "### Aims:\n",
        "* To gain some practical experience in evaluating supervised machine learning\n",
        "models.\n",
        "* To produce some assessable work for this subject."
      ]
    },
    {
      "cell_type": "markdown",
      "metadata": {
        "id": "baVAWGvq9wQL"
      },
      "source": [
        "### Procedure:\n",
        "In Prac W2 we applied k-NN and decision tree models to simple classification and regression datasets. The evaluation of the models was based on a single 70/30 split of the data into training and test data. In this Prac we will look more closely at the evaluation of these models.\n",
        "> Select one of the questions (3 – 6) from Prac W2 and revisit it for this prac."
      ]
    },
    {
      "cell_type": "markdown",
      "metadata": {
        "id": "PKmP9mvo-jhO"
      },
      "source": [
        "> On blackboard you will find a [link](https://docs.google.com/spreadsheets/d/1HAIDBp9ofIeEp5_braHBnwJ-heN8qdaxn5qk3q1c0vo/edit?usp=sharing) to a Google spreadsheet. Go there and enter your answers for Q2 – Q5."
      ]
    },
    {
      "cell_type": "code",
      "execution_count": 204,
      "metadata": {
        "id": "QoIDAKY__Jjn"
      },
      "outputs": [],
      "source": [
        "# Common Imports\n",
        "import pandas as pd\n",
        "import numpy as np\n",
        "from sklearn.model_selection import train_test_split\n",
        "from sklearn.neighbors import KNeighborsClassifier, KNeighborsRegressor"
      ]
    },
    {
      "cell_type": "code",
      "execution_count": 205,
      "metadata": {
        "id": "jUmAJwF5s8aw"
      },
      "outputs": [],
      "source": [
        "# ANSI color\n",
        "class color:\n",
        "  GREEN_BOLD = '\\033[1;32m'\n",
        "  YELLOW_BOLD = '\\033[1;33m'\n",
        "  BLUE_BOLD = '\\033[1;34m'\n",
        "  WHITE_BOLD = '\\033[1;37m'\n",
        "  END = '\\033[0m'"
      ]
    },
    {
      "cell_type": "markdown",
      "metadata": {
        "id": "u3RTU1y_9oXn"
      },
      "source": [
        "### Q1: Repeat Q2 from Prac W2 10 times, saving the 10 resulting training and test sets."
      ]
    },
    {
      "cell_type": "code",
      "execution_count": 206,
      "metadata": {
        "id": "W3JVLLgw_DeS"
      },
      "outputs": [],
      "source": [
        "# Specific Imports\n",
        "import os\n",
        "import datetime"
      ]
    },
    {
      "cell_type": "code",
      "execution_count": 207,
      "metadata": {
        "colab": {
          "base_uri": "https://localhost:8080/"
        },
        "id": "fmdSBOaC-dYf",
        "outputId": "bcc7837f-1da0-43ba-83d3-15281deff086"
      },
      "outputs": [
        {
          "output_type": "stream",
          "name": "stdout",
          "text": [
            "\u001b[1;33mClassification\u001b[0m\n",
            "Data saved as \u001b[1;37m'dataset/classification/train/X1.csv'\u001b[0m and \u001b[1;37m'test/X1.csv'\u001b[0m\n",
            "Data saved as \u001b[1;37m'dataset/classification/train/X2.csv'\u001b[0m and \u001b[1;37m'test/X2.csv'\u001b[0m\n",
            "Data saved as \u001b[1;37m'dataset/classification/train/X3.csv'\u001b[0m and \u001b[1;37m'test/X3.csv'\u001b[0m\n",
            "Data saved as \u001b[1;37m'dataset/classification/train/X4.csv'\u001b[0m and \u001b[1;37m'test/X4.csv'\u001b[0m\n",
            "Data saved as \u001b[1;37m'dataset/classification/train/X5.csv'\u001b[0m and \u001b[1;37m'test/X5.csv'\u001b[0m\n",
            "Data saved as \u001b[1;37m'dataset/classification/train/X6.csv'\u001b[0m and \u001b[1;37m'test/X6.csv'\u001b[0m\n",
            "Data saved as \u001b[1;37m'dataset/classification/train/X7.csv'\u001b[0m and \u001b[1;37m'test/X7.csv'\u001b[0m\n",
            "Data saved as \u001b[1;37m'dataset/classification/train/X8.csv'\u001b[0m and \u001b[1;37m'test/X8.csv'\u001b[0m\n",
            "Data saved as \u001b[1;37m'dataset/classification/train/X9.csv'\u001b[0m and \u001b[1;37m'test/X9.csv'\u001b[0m\n",
            "Data saved as \u001b[1;37m'dataset/classification/train/X10.csv'\u001b[0m and \u001b[1;37m'test/X10.csv'\u001b[0m\n",
            "\u001b[1;33mRegression\u001b[0m\n",
            "Data saved as \u001b[1;37m'dataset/regression/train/X1.csv'\u001b[0m and \u001b[1;37m'test/X1.csv'\u001b[0m\n",
            "Data saved as \u001b[1;37m'dataset/regression/train/X2.csv'\u001b[0m and \u001b[1;37m'test/X2.csv'\u001b[0m\n",
            "Data saved as \u001b[1;37m'dataset/regression/train/X3.csv'\u001b[0m and \u001b[1;37m'test/X3.csv'\u001b[0m\n",
            "Data saved as \u001b[1;37m'dataset/regression/train/X4.csv'\u001b[0m and \u001b[1;37m'test/X4.csv'\u001b[0m\n",
            "Data saved as \u001b[1;37m'dataset/regression/train/X5.csv'\u001b[0m and \u001b[1;37m'test/X5.csv'\u001b[0m\n",
            "Data saved as \u001b[1;37m'dataset/regression/train/X6.csv'\u001b[0m and \u001b[1;37m'test/X6.csv'\u001b[0m\n",
            "Data saved as \u001b[1;37m'dataset/regression/train/X7.csv'\u001b[0m and \u001b[1;37m'test/X7.csv'\u001b[0m\n",
            "Data saved as \u001b[1;37m'dataset/regression/train/X8.csv'\u001b[0m and \u001b[1;37m'test/X8.csv'\u001b[0m\n",
            "Data saved as \u001b[1;37m'dataset/regression/train/X9.csv'\u001b[0m and \u001b[1;37m'test/X9.csv'\u001b[0m\n",
            "Data saved as \u001b[1;37m'dataset/regression/train/X10.csv'\u001b[0m and \u001b[1;37m'test/X10.csv'\u001b[0m\n"
          ]
        }
      ],
      "source": [
        "def load_and_split_data(CSV_file, test_size=0.3, random_state=42):\n",
        "  \"\"\"\n",
        "  Loads a CSV file and splits it into training and test sets.\n",
        "\n",
        "  Parameters:\n",
        "  CSV_file (str): The path to the CSV file.\n",
        "  test_size (float): The proportion of the data to include in the test split.\n",
        "  random_state (int): The seed used by the random number generator.\n",
        "\n",
        "  Returns:\n",
        "  tuple: A tuple containing the training and test sets.\n",
        "  \"\"\"\n",
        "  df = pd.read_csv(CSV_file, header=None)\n",
        "  X, y = df.iloc[:, :-1].values, df.iloc[:, -1].values\n",
        "  return train_test_split(X, y, test_size=test_size, random_state=random_state)\n",
        "\n",
        "def save_split_data(data_splits, iteration, headers, save_dir=\"datasets\", sep=\"\"):\n",
        "    \"\"\"\n",
        "    Saves the combined X_train, y_train, X_test, and y_test for one iteration to CSV files.\n",
        "    The files are named X{iteration}_train.csv and X{iteration}_test.csv.\n",
        "\n",
        "    Parameters:\n",
        "    data_splits (tuple): A tuple containing the training and test sets.\n",
        "    iteration (int): The iteration number.\n",
        "    headers (list): A list of column headers for the CSV files.\n",
        "    save_dir (str): The directory where the CSV files will be saved.\n",
        "    \"\"\"\n",
        "    if not os.path.exists(save_dir):\n",
        "      os.makedirs(save_dir)\n",
        "\n",
        "    train_dir = os.path.join(save_dir, 'train')\n",
        "    test_dir = os.path.join(save_dir, 'test')\n",
        "\n",
        "    os.makedirs(train_dir, exist_ok=True)\n",
        "    os.makedirs(test_dir, exist_ok=True)\n",
        "\n",
        "    X_train, X_test, y_train, y_test = data_splits\n",
        "\n",
        "    def save_data(X, y, filename):\n",
        "        combined_data = pd.DataFrame(X)\n",
        "        combined_data['target'] = y\n",
        "        combined_data.columns = headers\n",
        "        combined_data.to_csv(filename, index=False)\n",
        "\n",
        "    save_data(X_train, y_train, os.path.join(train_dir, f\"X{iteration}.csv\"))\n",
        "    save_data(X_test, y_test, os.path.join(test_dir, f\"X{iteration}.csv\"))\n",
        "\n",
        "    print(f\"{sep*2}Data saved as {color.WHITE_BOLD}'{save_dir}/train/X{iteration}.csv'{color.END} and {color.WHITE_BOLD}'test/X{iteration}.csv'{color.END}\")\n",
        "\n",
        "def q1(test_percent=30, sep=\"\"):\n",
        "  for type in [\"classification\", \"regression\"]:\n",
        "    print(f\"{color.YELLOW_BOLD}{sep}{type.title()}{color.END}\")\n",
        "    if type == \"classification\":\n",
        "        CSV = 'w3classif.csv'\n",
        "        headers = [\"feature1\", \"feature2\", \"target\"]\n",
        "    elif type == \"regression\":\n",
        "        CSV = 'w3regr.csv'\n",
        "        headers = [\"Feature1\", \"Feature2\"]\n",
        "    else:\n",
        "        exit\n",
        "\n",
        "    for i in range(1,11):\n",
        "        data_splits = load_and_split_data(CSV, test_size=(test_percent/100), random_state=None)  # random_state=None for variability\n",
        "        save_split_data(data_splits, i, headers, f\"dataset/{type}\", sep)\n",
        "q1()"
      ]
    },
    {
      "cell_type": "markdown",
      "metadata": {
        "id": "_gSj0SfW-W1f"
      },
      "source": [
        "### Q2: Calculate the training and test set errors over all of the datasets from Q1 and calculate the average training and test errors over the 10 trials. Are the averages lower or higher than the values you found in Prac W3 (or alternatively compare with the values for the first of your 10 runs)?\n"
      ]
    },
    {
      "cell_type": "code",
      "source": [
        "# Specfic Imports\n",
        "from sklearn.metrics import accuracy_score, mean_squared_error"
      ],
      "metadata": {
        "id": "w6KPCeoezsTR"
      },
      "execution_count": 208,
      "outputs": []
    },
    {
      "cell_type": "code",
      "execution_count": 209,
      "metadata": {
        "id": "uQIDtQYD-dV7",
        "colab": {
          "base_uri": "https://localhost:8080/"
        },
        "outputId": "f848d85e-6a86-4b88-bc37-0d8f4f191cc4"
      },
      "outputs": [
        {
          "output_type": "stream",
          "name": "stdout",
          "text": [
            "\u001b[1;33mClassification\u001b[0m\n",
            "\u001b[1;34mErrors:\u001b[0m\n",
            "    Average of Classification Test Error (KNN): \u001b[1;37m0.015833333333333355\u001b[0m\n",
            "\u001b[1;33mRegression\u001b[0m\n",
            "\u001b[1;34mErrors:\u001b[0m\n",
            "    Average of Regression Test Error (KNN): \u001b[1;37m132.21048721743227\u001b[0m\n"
          ]
        }
      ],
      "source": [
        "def knn_error(model, X, y):\n",
        "    model.fit(X, y)\n",
        "    y_pred = model.predict(X)\n",
        "    if isinstance(model, KNeighborsClassifier): error = 1 - accuracy_score(y, y_pred)\n",
        "    elif isinstance(model, KNeighborsRegressor): error = mean_squared_error(y, y_pred)\n",
        "    else: exit\n",
        "\n",
        "    return error\n",
        "\n",
        "def q2(sep=\"\"):\n",
        "  for type in [\"classification\", \"regression\"]:\n",
        "    print(f\"{color.YELLOW_BOLD}{sep}{type.title()}{color.END}\")\n",
        "\n",
        "    if type == \"classification\": model_knn = KNeighborsClassifier(n_neighbors=5)\n",
        "    elif type == \"regression\": model_knn = KNeighborsRegressor(n_neighbors=5)\n",
        "    else: exit\n",
        "\n",
        "    for data_type in [\"train\", \"test\"]:\n",
        "      errors = []\n",
        "      for i in range(1, 11):\n",
        "        X = pd.read_csv(f'dataset/{type}/{data_type}/X{i}.csv')\n",
        "        y = X.iloc[:, -1].values\n",
        "        error = knn_error(model_knn, X, y)\n",
        "        errors.append(error)\n",
        "      avg_error = np.mean(errors)\n",
        "    print(f\"\"\"{color.BLUE_BOLD}{sep*2}Errors:{color.END}\n",
        "    {sep*2}Average of {type.title()} {data_type.title()} Error (KNN): {color.WHITE_BOLD}{avg_error}{color.END}\"\"\")\n",
        "\n",
        "q2()"
      ]
    },
    {
      "cell_type": "markdown",
      "metadata": {
        "id": "L5QypmlR-Yd5"
      },
      "source": [
        "### Question 3: Repeat Q1 and Q2 but use a different split – try 50/50 or 90/10. Compare your average error values with those you found in Q2."
      ]
    },
    {
      "cell_type": "code",
      "execution_count": 210,
      "metadata": {
        "id": "5hlse_bb-m43",
        "colab": {
          "base_uri": "https://localhost:8080/"
        },
        "outputId": "4b1c92d5-707f-4f2a-a1b9-9e79e12b6684"
      },
      "outputs": [
        {
          "output_type": "stream",
          "name": "stdout",
          "text": [
            "\u001b[1;32mQ1 & Q2 for 50/50 \u001b[0m\n",
            "\u001b[1;33m\tClassification\u001b[0m\n",
            "\t\tData saved as \u001b[1;37m'dataset/classification/train/X1.csv'\u001b[0m and \u001b[1;37m'test/X1.csv'\u001b[0m\n",
            "\t\tData saved as \u001b[1;37m'dataset/classification/train/X2.csv'\u001b[0m and \u001b[1;37m'test/X2.csv'\u001b[0m\n",
            "\t\tData saved as \u001b[1;37m'dataset/classification/train/X3.csv'\u001b[0m and \u001b[1;37m'test/X3.csv'\u001b[0m\n",
            "\t\tData saved as \u001b[1;37m'dataset/classification/train/X4.csv'\u001b[0m and \u001b[1;37m'test/X4.csv'\u001b[0m\n",
            "\t\tData saved as \u001b[1;37m'dataset/classification/train/X5.csv'\u001b[0m and \u001b[1;37m'test/X5.csv'\u001b[0m\n",
            "\t\tData saved as \u001b[1;37m'dataset/classification/train/X6.csv'\u001b[0m and \u001b[1;37m'test/X6.csv'\u001b[0m\n",
            "\t\tData saved as \u001b[1;37m'dataset/classification/train/X7.csv'\u001b[0m and \u001b[1;37m'test/X7.csv'\u001b[0m\n",
            "\t\tData saved as \u001b[1;37m'dataset/classification/train/X8.csv'\u001b[0m and \u001b[1;37m'test/X8.csv'\u001b[0m\n",
            "\t\tData saved as \u001b[1;37m'dataset/classification/train/X9.csv'\u001b[0m and \u001b[1;37m'test/X9.csv'\u001b[0m\n",
            "\t\tData saved as \u001b[1;37m'dataset/classification/train/X10.csv'\u001b[0m and \u001b[1;37m'test/X10.csv'\u001b[0m\n",
            "\u001b[1;33m\tRegression\u001b[0m\n",
            "\t\tData saved as \u001b[1;37m'dataset/regression/train/X1.csv'\u001b[0m and \u001b[1;37m'test/X1.csv'\u001b[0m\n",
            "\t\tData saved as \u001b[1;37m'dataset/regression/train/X2.csv'\u001b[0m and \u001b[1;37m'test/X2.csv'\u001b[0m\n",
            "\t\tData saved as \u001b[1;37m'dataset/regression/train/X3.csv'\u001b[0m and \u001b[1;37m'test/X3.csv'\u001b[0m\n",
            "\t\tData saved as \u001b[1;37m'dataset/regression/train/X4.csv'\u001b[0m and \u001b[1;37m'test/X4.csv'\u001b[0m\n",
            "\t\tData saved as \u001b[1;37m'dataset/regression/train/X5.csv'\u001b[0m and \u001b[1;37m'test/X5.csv'\u001b[0m\n",
            "\t\tData saved as \u001b[1;37m'dataset/regression/train/X6.csv'\u001b[0m and \u001b[1;37m'test/X6.csv'\u001b[0m\n",
            "\t\tData saved as \u001b[1;37m'dataset/regression/train/X7.csv'\u001b[0m and \u001b[1;37m'test/X7.csv'\u001b[0m\n",
            "\t\tData saved as \u001b[1;37m'dataset/regression/train/X8.csv'\u001b[0m and \u001b[1;37m'test/X8.csv'\u001b[0m\n",
            "\t\tData saved as \u001b[1;37m'dataset/regression/train/X9.csv'\u001b[0m and \u001b[1;37m'test/X9.csv'\u001b[0m\n",
            "\t\tData saved as \u001b[1;37m'dataset/regression/train/X10.csv'\u001b[0m and \u001b[1;37m'test/X10.csv'\u001b[0m\n",
            "\u001b[1;33m\tClassification\u001b[0m\n",
            "\u001b[1;34m\t\tErrors:\u001b[0m\n",
            "    \t\tAverage of Classification Test Error (KNN): \u001b[1;37m0.010000000000000009\u001b[0m\n",
            "\u001b[1;33m\tRegression\u001b[0m\n",
            "\u001b[1;34m\t\tErrors:\u001b[0m\n",
            "    \t\tAverage of Regression Test Error (KNN): \u001b[1;37m87.00880707676505\u001b[0m\n",
            "\n",
            "\n",
            "\u001b[1;32mQ1 & Q2 for 90/10 \u001b[0m\n",
            "\u001b[1;33m\tClassification\u001b[0m\n",
            "\t\tData saved as \u001b[1;37m'dataset/classification/train/X1.csv'\u001b[0m and \u001b[1;37m'test/X1.csv'\u001b[0m\n",
            "\t\tData saved as \u001b[1;37m'dataset/classification/train/X2.csv'\u001b[0m and \u001b[1;37m'test/X2.csv'\u001b[0m\n",
            "\t\tData saved as \u001b[1;37m'dataset/classification/train/X3.csv'\u001b[0m and \u001b[1;37m'test/X3.csv'\u001b[0m\n",
            "\t\tData saved as \u001b[1;37m'dataset/classification/train/X4.csv'\u001b[0m and \u001b[1;37m'test/X4.csv'\u001b[0m\n",
            "\t\tData saved as \u001b[1;37m'dataset/classification/train/X5.csv'\u001b[0m and \u001b[1;37m'test/X5.csv'\u001b[0m\n",
            "\t\tData saved as \u001b[1;37m'dataset/classification/train/X6.csv'\u001b[0m and \u001b[1;37m'test/X6.csv'\u001b[0m\n",
            "\t\tData saved as \u001b[1;37m'dataset/classification/train/X7.csv'\u001b[0m and \u001b[1;37m'test/X7.csv'\u001b[0m\n",
            "\t\tData saved as \u001b[1;37m'dataset/classification/train/X8.csv'\u001b[0m and \u001b[1;37m'test/X8.csv'\u001b[0m\n",
            "\t\tData saved as \u001b[1;37m'dataset/classification/train/X9.csv'\u001b[0m and \u001b[1;37m'test/X9.csv'\u001b[0m\n",
            "\t\tData saved as \u001b[1;37m'dataset/classification/train/X10.csv'\u001b[0m and \u001b[1;37m'test/X10.csv'\u001b[0m\n",
            "\u001b[1;33m\tRegression\u001b[0m\n",
            "\t\tData saved as \u001b[1;37m'dataset/regression/train/X1.csv'\u001b[0m and \u001b[1;37m'test/X1.csv'\u001b[0m\n",
            "\t\tData saved as \u001b[1;37m'dataset/regression/train/X2.csv'\u001b[0m and \u001b[1;37m'test/X2.csv'\u001b[0m\n",
            "\t\tData saved as \u001b[1;37m'dataset/regression/train/X3.csv'\u001b[0m and \u001b[1;37m'test/X3.csv'\u001b[0m\n",
            "\t\tData saved as \u001b[1;37m'dataset/regression/train/X4.csv'\u001b[0m and \u001b[1;37m'test/X4.csv'\u001b[0m\n",
            "\t\tData saved as \u001b[1;37m'dataset/regression/train/X5.csv'\u001b[0m and \u001b[1;37m'test/X5.csv'\u001b[0m\n",
            "\t\tData saved as \u001b[1;37m'dataset/regression/train/X6.csv'\u001b[0m and \u001b[1;37m'test/X6.csv'\u001b[0m\n",
            "\t\tData saved as \u001b[1;37m'dataset/regression/train/X7.csv'\u001b[0m and \u001b[1;37m'test/X7.csv'\u001b[0m\n",
            "\t\tData saved as \u001b[1;37m'dataset/regression/train/X8.csv'\u001b[0m and \u001b[1;37m'test/X8.csv'\u001b[0m\n",
            "\t\tData saved as \u001b[1;37m'dataset/regression/train/X9.csv'\u001b[0m and \u001b[1;37m'test/X9.csv'\u001b[0m\n",
            "\t\tData saved as \u001b[1;37m'dataset/regression/train/X10.csv'\u001b[0m and \u001b[1;37m'test/X10.csv'\u001b[0m\n",
            "\u001b[1;33m\tClassification\u001b[0m\n",
            "\u001b[1;34m\t\tErrors:\u001b[0m\n",
            "    \t\tAverage of Classification Test Error (KNN): \u001b[1;37m0.032500000000000015\u001b[0m\n",
            "\u001b[1;33m\tRegression\u001b[0m\n",
            "\u001b[1;34m\t\tErrors:\u001b[0m\n",
            "    \t\tAverage of Regression Test Error (KNN): \u001b[1;37m385.21791607960114\u001b[0m\n",
            "\n",
            "\n"
          ]
        }
      ],
      "source": [
        "def q1_q2(test_percent):\n",
        "  print(f\"{color.GREEN_BOLD}Q1 & Q2 for {100-test_percent}/{test_percent} {color.END}\")\n",
        "  q1(test_percent, \"\\t\")\n",
        "  q2(\"\\t\")\n",
        "  print(\"\\n\")\n",
        "\n",
        "q1_q2(50)\n",
        "q1_q2(10)"
      ]
    },
    {
      "cell_type": "markdown",
      "metadata": {
        "id": "j4na0AUP-Z4i"
      },
      "source": [
        "### Q4: Calculate the sample standard deviation of your training and test set error values over the 10 trials from Q2 and Q3. What do you observe?"
      ]
    },
    {
      "cell_type": "code",
      "execution_count": 211,
      "metadata": {
        "id": "Y6ZRBkeH-nX1",
        "colab": {
          "base_uri": "https://localhost:8080/"
        },
        "outputId": "e6548773-28fe-48af-86a6-5e8e34ea01c4"
      },
      "outputs": [
        {
          "output_type": "stream",
          "name": "stdout",
          "text": [
            "\u001b[1;32mQ1 & Q2 for 50/50 \u001b[0m\n",
            "\u001b[1;33m\tClassification\u001b[0m\n",
            "\t\tData saved as \u001b[1;37m'dataset/classification/train/X1.csv'\u001b[0m and \u001b[1;37m'test/X1.csv'\u001b[0m\n",
            "\t\tData saved as \u001b[1;37m'dataset/classification/train/X2.csv'\u001b[0m and \u001b[1;37m'test/X2.csv'\u001b[0m\n",
            "\t\tData saved as \u001b[1;37m'dataset/classification/train/X3.csv'\u001b[0m and \u001b[1;37m'test/X3.csv'\u001b[0m\n",
            "\t\tData saved as \u001b[1;37m'dataset/classification/train/X4.csv'\u001b[0m and \u001b[1;37m'test/X4.csv'\u001b[0m\n",
            "\t\tData saved as \u001b[1;37m'dataset/classification/train/X5.csv'\u001b[0m and \u001b[1;37m'test/X5.csv'\u001b[0m\n",
            "\t\tData saved as \u001b[1;37m'dataset/classification/train/X6.csv'\u001b[0m and \u001b[1;37m'test/X6.csv'\u001b[0m\n",
            "\t\tData saved as \u001b[1;37m'dataset/classification/train/X7.csv'\u001b[0m and \u001b[1;37m'test/X7.csv'\u001b[0m\n",
            "\t\tData saved as \u001b[1;37m'dataset/classification/train/X8.csv'\u001b[0m and \u001b[1;37m'test/X8.csv'\u001b[0m\n",
            "\t\tData saved as \u001b[1;37m'dataset/classification/train/X9.csv'\u001b[0m and \u001b[1;37m'test/X9.csv'\u001b[0m\n",
            "\t\tData saved as \u001b[1;37m'dataset/classification/train/X10.csv'\u001b[0m and \u001b[1;37m'test/X10.csv'\u001b[0m\n",
            "\u001b[1;33m\tRegression\u001b[0m\n",
            "\t\tData saved as \u001b[1;37m'dataset/regression/train/X1.csv'\u001b[0m and \u001b[1;37m'test/X1.csv'\u001b[0m\n",
            "\t\tData saved as \u001b[1;37m'dataset/regression/train/X2.csv'\u001b[0m and \u001b[1;37m'test/X2.csv'\u001b[0m\n",
            "\t\tData saved as \u001b[1;37m'dataset/regression/train/X3.csv'\u001b[0m and \u001b[1;37m'test/X3.csv'\u001b[0m\n",
            "\t\tData saved as \u001b[1;37m'dataset/regression/train/X4.csv'\u001b[0m and \u001b[1;37m'test/X4.csv'\u001b[0m\n",
            "\t\tData saved as \u001b[1;37m'dataset/regression/train/X5.csv'\u001b[0m and \u001b[1;37m'test/X5.csv'\u001b[0m\n",
            "\t\tData saved as \u001b[1;37m'dataset/regression/train/X6.csv'\u001b[0m and \u001b[1;37m'test/X6.csv'\u001b[0m\n",
            "\t\tData saved as \u001b[1;37m'dataset/regression/train/X7.csv'\u001b[0m and \u001b[1;37m'test/X7.csv'\u001b[0m\n",
            "\t\tData saved as \u001b[1;37m'dataset/regression/train/X8.csv'\u001b[0m and \u001b[1;37m'test/X8.csv'\u001b[0m\n",
            "\t\tData saved as \u001b[1;37m'dataset/regression/train/X9.csv'\u001b[0m and \u001b[1;37m'test/X9.csv'\u001b[0m\n",
            "\t\tData saved as \u001b[1;37m'dataset/regression/train/X10.csv'\u001b[0m and \u001b[1;37m'test/X10.csv'\u001b[0m\n",
            "\u001b[1;33m\tClassification\u001b[0m\n",
            "\u001b[1;34m\t\tErrors:\u001b[0m\n",
            "    \t\tAverage of Classification Test Error (KNN): \u001b[1;37m0.012500000000000011\u001b[0m\n",
            "    \t\tStandard Devation of Classification Test Error (KNN): \u001b[1;37m0.005892556509887901\u001b[0m\n",
            "\u001b[1;33m\tRegression\u001b[0m\n",
            "\u001b[1;34m\t\tErrors:\u001b[0m\n",
            "    \t\tAverage of Regression Test Error (KNN): \u001b[1;37m89.10868599478002\u001b[0m\n",
            "    \t\tStandard Devation of Regression Test Error (KNN): \u001b[1;37m94.83634544556628\u001b[0m\n",
            "\n",
            "\n",
            "\u001b[1;32mQ1 & Q2 for 90/10 \u001b[0m\n",
            "\u001b[1;33m\tClassification\u001b[0m\n",
            "\t\tData saved as \u001b[1;37m'dataset/classification/train/X1.csv'\u001b[0m and \u001b[1;37m'test/X1.csv'\u001b[0m\n",
            "\t\tData saved as \u001b[1;37m'dataset/classification/train/X2.csv'\u001b[0m and \u001b[1;37m'test/X2.csv'\u001b[0m\n",
            "\t\tData saved as \u001b[1;37m'dataset/classification/train/X3.csv'\u001b[0m and \u001b[1;37m'test/X3.csv'\u001b[0m\n",
            "\t\tData saved as \u001b[1;37m'dataset/classification/train/X4.csv'\u001b[0m and \u001b[1;37m'test/X4.csv'\u001b[0m\n",
            "\t\tData saved as \u001b[1;37m'dataset/classification/train/X5.csv'\u001b[0m and \u001b[1;37m'test/X5.csv'\u001b[0m\n",
            "\t\tData saved as \u001b[1;37m'dataset/classification/train/X6.csv'\u001b[0m and \u001b[1;37m'test/X6.csv'\u001b[0m\n",
            "\t\tData saved as \u001b[1;37m'dataset/classification/train/X7.csv'\u001b[0m and \u001b[1;37m'test/X7.csv'\u001b[0m\n",
            "\t\tData saved as \u001b[1;37m'dataset/classification/train/X8.csv'\u001b[0m and \u001b[1;37m'test/X8.csv'\u001b[0m\n",
            "\t\tData saved as \u001b[1;37m'dataset/classification/train/X9.csv'\u001b[0m and \u001b[1;37m'test/X9.csv'\u001b[0m\n",
            "\t\tData saved as \u001b[1;37m'dataset/classification/train/X10.csv'\u001b[0m and \u001b[1;37m'test/X10.csv'\u001b[0m\n",
            "\u001b[1;33m\tRegression\u001b[0m\n",
            "\t\tData saved as \u001b[1;37m'dataset/regression/train/X1.csv'\u001b[0m and \u001b[1;37m'test/X1.csv'\u001b[0m\n",
            "\t\tData saved as \u001b[1;37m'dataset/regression/train/X2.csv'\u001b[0m and \u001b[1;37m'test/X2.csv'\u001b[0m\n",
            "\t\tData saved as \u001b[1;37m'dataset/regression/train/X3.csv'\u001b[0m and \u001b[1;37m'test/X3.csv'\u001b[0m\n",
            "\t\tData saved as \u001b[1;37m'dataset/regression/train/X4.csv'\u001b[0m and \u001b[1;37m'test/X4.csv'\u001b[0m\n",
            "\t\tData saved as \u001b[1;37m'dataset/regression/train/X5.csv'\u001b[0m and \u001b[1;37m'test/X5.csv'\u001b[0m\n",
            "\t\tData saved as \u001b[1;37m'dataset/regression/train/X6.csv'\u001b[0m and \u001b[1;37m'test/X6.csv'\u001b[0m\n",
            "\t\tData saved as \u001b[1;37m'dataset/regression/train/X7.csv'\u001b[0m and \u001b[1;37m'test/X7.csv'\u001b[0m\n",
            "\t\tData saved as \u001b[1;37m'dataset/regression/train/X8.csv'\u001b[0m and \u001b[1;37m'test/X8.csv'\u001b[0m\n",
            "\t\tData saved as \u001b[1;37m'dataset/regression/train/X9.csv'\u001b[0m and \u001b[1;37m'test/X9.csv'\u001b[0m\n",
            "\t\tData saved as \u001b[1;37m'dataset/regression/train/X10.csv'\u001b[0m and \u001b[1;37m'test/X10.csv'\u001b[0m\n",
            "\u001b[1;33m\tClassification\u001b[0m\n",
            "\u001b[1;34m\t\tErrors:\u001b[0m\n",
            "    \t\tAverage of Classification Test Error (KNN): \u001b[1;37m0.02250000000000002\u001b[0m\n",
            "    \t\tStandard Devation of Classification Test Error (KNN): \u001b[1;37m0.01419115530493868\u001b[0m\n",
            "\u001b[1;33m\tRegression\u001b[0m\n",
            "\u001b[1;34m\t\tErrors:\u001b[0m\n",
            "    \t\tAverage of Regression Test Error (KNN): \u001b[1;37m562.1562441511917\u001b[0m\n",
            "    \t\tStandard Devation of Regression Test Error (KNN): \u001b[1;37m453.8236697362595\u001b[0m\n",
            "\n",
            "\n"
          ]
        }
      ],
      "source": [
        "def q4_helper(sep=\"\"):\n",
        "  for type in [\"classification\", \"regression\"]:\n",
        "    print(f\"{color.YELLOW_BOLD}{sep}{type.title()}{color.END}\")\n",
        "\n",
        "    if type == \"classification\": model_knn = KNeighborsClassifier(n_neighbors=5)\n",
        "    elif type == \"regression\": model_knn = KNeighborsRegressor(n_neighbors=5)\n",
        "    else: exit\n",
        "\n",
        "    for data_type in [\"train\", \"test\"]:\n",
        "      errors = []\n",
        "      for i in range(1, 11):\n",
        "        X = pd.read_csv(f'dataset/{type}/{data_type}/X{i}.csv')\n",
        "        y = X.iloc[:, -1].values\n",
        "        error = knn_error(model_knn, X, y)\n",
        "        errors.append(error)\n",
        "      avg_error = np.mean(errors)\n",
        "      std_error = np.std(errors, ddof=1)\n",
        "\n",
        "    print(f\"\"\"{color.BLUE_BOLD}{sep*2}Errors:{color.END}\n",
        "    {sep*2}Average of {type.title()} {data_type.title()} Error (KNN): {color.WHITE_BOLD}{avg_error}{color.END}\n",
        "    {sep*2}Standard Devation of {type.title()} {data_type.title()} Error (KNN): {color.WHITE_BOLD}{std_error}{color.END}\"\"\")\n",
        "\n",
        "def q4(test_percent):\n",
        "  print(f\"{color.GREEN_BOLD}Q1 & Q2 for {100-test_percent}/{test_percent} {color.END}\")\n",
        "  q1(test_percent, \"\\t\")\n",
        "  q4_helper(\"\\t\")\n",
        "  print(\"\\n\")\n",
        "\n",
        "q4(50)\n",
        "q4(10)"
      ]
    },
    {
      "cell_type": "markdown",
      "metadata": {
        "id": "jdQZE4Yl-bSp"
      },
      "source": [
        "### Q5: Perform 10-fold cross validation using your model and the (original) dataset (use existing Matlab or python functions to do this). What are the mean and standard devations of the cross-validation error?"
      ]
    },
    {
      "cell_type": "code",
      "source": [
        "# Specific Imports\n",
        "from sklearn.model_selection import cross_val_score"
      ],
      "metadata": {
        "id": "XGWqy4v9DuAL"
      },
      "execution_count": 212,
      "outputs": []
    },
    {
      "cell_type": "code",
      "execution_count": 224,
      "metadata": {
        "id": "ich62oC4-nsy",
        "colab": {
          "base_uri": "https://localhost:8080/"
        },
        "outputId": "df25d6cd-ef18-46bf-982f-20b1a1706fa9"
      },
      "outputs": [
        {
          "output_type": "stream",
          "name": "stdout",
          "text": [
            "\u001b[1;33mClassification\u001b[0m\n",
            "\u001b[1;34mErrors:\u001b[0m\n",
            "    Average of Classification Test Error (KNN): \u001b[1;37mnan\u001b[0m\n",
            "    Standard Devation of Classification Test Error (KNN): \u001b[1;37mnan\u001b[0m\n",
            "\u001b[1;33mRegression\u001b[0m\n",
            "\u001b[1;34mErrors:\u001b[0m\n",
            "    Average of Regression Test Error (KNN): \u001b[1;37mnan\u001b[0m\n",
            "    Standard Devation of Regression Test Error (KNN): \u001b[1;37mnan\u001b[0m\n"
          ]
        },
        {
          "output_type": "stream",
          "name": "stderr",
          "text": [
            "/usr/local/lib/python3.11/dist-packages/numpy/_core/fromnumeric.py:3596: RuntimeWarning: Mean of empty slice.\n",
            "  return _methods._mean(a, axis=axis, dtype=dtype,\n",
            "/usr/local/lib/python3.11/dist-packages/numpy/_core/_methods.py:138: RuntimeWarning: invalid value encountered in scalar divide\n",
            "  ret = ret.dtype.type(ret / rcount)\n",
            "/usr/local/lib/python3.11/dist-packages/numpy/_core/_methods.py:218: RuntimeWarning: Degrees of freedom <= 0 for slice\n",
            "  ret = _var(a, axis=axis, dtype=dtype, out=out, ddof=ddof,\n",
            "/usr/local/lib/python3.11/dist-packages/numpy/_core/_methods.py:175: RuntimeWarning: invalid value encountered in divide\n",
            "  arrmean = um.true_divide(arrmean, div, out=arrmean,\n",
            "/usr/local/lib/python3.11/dist-packages/numpy/_core/_methods.py:210: RuntimeWarning: invalid value encountered in scalar divide\n",
            "  ret = ret.dtype.type(ret / rcount)\n"
          ]
        }
      ],
      "source": [
        "def q5_helper(sep=\"\"):\n",
        "  for type in [\"classification\", \"regression\"]:\n",
        "    print(f\"{color.YELLOW_BOLD}{sep}{type.title()}{color.END}\")\n",
        "\n",
        "    if type == \"classification\": model_knn = KNeighborsClassifier(n_neighbors=5)\n",
        "    elif type == \"regression\": model_knn = KNeighborsRegressor(n_neighbors=5)\n",
        "    else: exit\n",
        "\n",
        "    for data_type in [\"train\", \"test\"]:\n",
        "      cv_scores = []\n",
        "      for i in range(1, 1):\n",
        "        X = pd.read_csv(f'dataset/{type}/{data_type}/X{i}.csv')\n",
        "        y = X.iloc[:, -1].values\n",
        "        cv_score = cross_val_score(model_knn, X, y, cv=10, scoring='accuracy')\n",
        "        cv_scores.append(cv_score)\n",
        "      avg_error = np.mean(cv_scores)\n",
        "      std_error = np.std(cv_scores, ddof=1)\n",
        "\n",
        "    print(f\"\"\"{color.BLUE_BOLD}{sep*2}Errors:{color.END}\n",
        "    {sep*2}Average of {type.title()} {data_type.title()} Error (KNN): {color.WHITE_BOLD}{avg_error}{color.END}\n",
        "    {sep*2}Standard Devation of {type.title()} {data_type.title()} Error (KNN): {color.WHITE_BOLD}{std_error}{color.END}\"\"\")\n",
        "\n",
        "q5_helper()"
      ]
    }
  ],
  "metadata": {
    "colab": {
      "provenance": []
    },
    "kernelspec": {
      "display_name": "Python 3",
      "name": "python3"
    },
    "language_info": {
      "name": "python"
    }
  },
  "nbformat": 4,
  "nbformat_minor": 0
}