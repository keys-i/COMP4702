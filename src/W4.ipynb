{
  "cells": [
    {
      "cell_type": "markdown",
      "source": [
        "W4 Practicals - Basic Parametric models and Statistical Learning"
      ],
      "metadata": {
        "id": "Tx78m4Btr6im"
      }
    },
    {
      "cell_type": "markdown",
      "metadata": {
        "id": "pn2Siz35rHoZ"
      },
      "source": [
        "### Aims:\n",
        "* To gain some experience in performing regression with linear and polynomial\n",
        "models and classification with parametric models.\n",
        "* To produce some assessable work for this subject."
      ]
    },
    {
      "cell_type": "code",
      "execution_count": null,
      "metadata": {
        "vscode": {
          "languageId": "plaintext"
        },
        "id": "j_PLXxoVrHoZ"
      },
      "outputs": [],
      "source": [
        "# Common Imports\n",
        "import numpy as np\n",
        "import pandas as pd\n",
        "import matplotlib.pyplot as plt\n",
        "import seaborn as sns"
      ]
    },
    {
      "cell_type": "code",
      "source": [
        "# ANSI color\n",
        "class color:\n",
        "  YELLOW_BOLD = '\\033[1;33m'\n",
        "  END = '\\033[0m'"
      ],
      "metadata": {
        "id": "tb33lMjDsb5P"
      },
      "execution_count": null,
      "outputs": []
    },
    {
      "cell_type": "markdown",
      "source": [
        "### Q1"
      ],
      "metadata": {
        "id": "To50hL54seZI"
      }
    },
    {
      "cell_type": "code",
      "source": [
        "# Specific Imports\n",
        "from sklearn.linear_model import LinearRegression"
      ],
      "metadata": {
        "id": "AWhJPxfkvCFH"
      },
      "execution_count": null,
      "outputs": []
    },
    {
      "cell_type": "markdown",
      "source": [
        "#### a. Plot the function ($f(x) = x^3 + 1$) over the domain [-1,1]. This is the “true” function for our regression problem. However, the data that we observe (i.e. what we train the model with) will have Gaussian noise added to the output/target values."
      ],
      "metadata": {
        "id": "j6-LGbj3sj_z"
      }
    },
    {
      "cell_type": "code",
      "source": [
        "def f(x):\n",
        "  return x^3+1\n",
        "\n",
        "x = 1 # bleh\n",
        "\n",
        "plot()"
      ],
      "metadata": {
        "id": "U3-IMnDKtHWE"
      },
      "execution_count": null,
      "outputs": []
    },
    {
      "cell_type": "markdown",
      "source": [
        "#### b. Create a “sample training set” of 30 points by generating a random set of x/input values, and then corresponding outputs by evaluating the true function at each input value and adding Gaussian random noise. Plot the data on the same axes as the function."
      ],
      "metadata": {
        "id": "Qc3USgyXsvPx"
      }
    },
    {
      "cell_type": "code",
      "source": [],
      "metadata": {
        "id": "bS26DXTttcYT"
      },
      "execution_count": null,
      "outputs": []
    },
    {
      "cell_type": "markdown",
      "source": [
        "### c. Perform linear regression using your training set and calculate the training set (sum of squares) error."
      ],
      "metadata": {
        "id": "tc5GyRYvsy_-"
      }
    },
    {
      "cell_type": "code",
      "source": [],
      "metadata": {
        "id": "MCgUDuZhtcna"
      },
      "execution_count": null,
      "outputs": []
    },
    {
      "cell_type": "markdown",
      "source": [
        "#### d. Perform polynomial regression using your training set and calculate the training set (sum of squares) error. Experiment with different order polynomials and observe the effect on the training set error."
      ],
      "metadata": {
        "id": "YvzFC7fZs0vV"
      }
    },
    {
      "cell_type": "code",
      "source": [],
      "metadata": {
        "id": "cKiEDt2pseHb"
      },
      "execution_count": null,
      "outputs": []
    },
    {
      "cell_type": "markdown",
      "source": [
        "### Q2"
      ],
      "metadata": {
        "id": "00x5l7d_tsK-"
      }
    },
    {
      "cell_type": "markdown",
      "source": [
        "#### a. Download the dataset pokemonregr.csv from blackboard. This contains 7 of the columns from the pokemon dataset. Open the file in a spreadsheet or preview the first few lines to see what it “looks like”."
      ],
      "metadata": {
        "id": "OLRPK1Vntret"
      }
    },
    {
      "cell_type": "code",
      "source": [],
      "metadata": {
        "id": "t9IjpWFZvMnG"
      },
      "execution_count": null,
      "outputs": []
    },
    {
      "cell_type": "markdown",
      "source": [
        "#### b. Fit a linear regression model to the data, using the final column (weight in kg) as the output/target variable."
      ],
      "metadata": {
        "id": "EyrI_sMzuHPg"
      }
    },
    {
      "cell_type": "code",
      "source": [],
      "metadata": {
        "id": "HmtDlvOivM7q"
      },
      "execution_count": null,
      "outputs": []
    },
    {
      "cell_type": "markdown",
      "source": [
        "#### c. What are the coefficients/parameters of your regression model?"
      ],
      "metadata": {
        "id": "MDypItLQuI06"
      }
    },
    {
      "cell_type": "code",
      "source": [],
      "metadata": {
        "id": "eUleMqOKvNMl"
      },
      "execution_count": null,
      "outputs": []
    },
    {
      "cell_type": "markdown",
      "source": [
        "#### d. Recall that the coefficients can be interpreted as a weight of the importance of each weight to the predicted output. Which feature is most important for predicting weight?"
      ],
      "metadata": {
        "id": "Sfg5pGmbuJPI"
      }
    },
    {
      "cell_type": "code",
      "source": [],
      "metadata": {
        "id": "qnfRoeEAvNf2"
      },
      "execution_count": null,
      "outputs": []
    },
    {
      "cell_type": "markdown",
      "source": [
        "#### e. One potential issue is that the data you have used is not normalized\n",
        "> read the short section at the end of Sec.2.2 in the textbook. Normalise your input features and refit the linear regression model. Compare the coefficients for the resulting model to your answer from (d)."
      ],
      "metadata": {
        "id": "D8c9McCUuNeP"
      }
    },
    {
      "cell_type": "code",
      "source": [],
      "metadata": {
        "id": "vvidxlRMvOJh"
      },
      "execution_count": null,
      "outputs": []
    },
    {
      "cell_type": "markdown",
      "source": [
        "### Q3"
      ],
      "metadata": {
        "id": "J0uWq-p0ueCx"
      }
    },
    {
      "cell_type": "markdown",
      "source": [
        "> Note: implementations of logistic regression can be a part of functions that do additional things and return lots of additional information. Don’t worry about this extra stuff for now. Feel free to use ChatGPT to help you with this question!"
      ],
      "metadata": {
        "id": "TaEctefRufw4"
      }
    },
    {
      "cell_type": "code",
      "source": [
        "# Specific Imports\n",
        "from sklearn.linear_model import LogisticRegression"
      ],
      "metadata": {
        "id": "gXk4UL-4u4jz"
      },
      "execution_count": null,
      "outputs": []
    },
    {
      "cell_type": "markdown",
      "source": [
        "#### a. Fit a logistic regression model to the data in w3classif.csv. What are the model parameter values?\n"
      ],
      "metadata": {
        "id": "UFxwuqI3uqkd"
      }
    },
    {
      "cell_type": "code",
      "source": [],
      "metadata": {
        "id": "OVifB2QJufX_"
      },
      "execution_count": null,
      "outputs": []
    },
    {
      "cell_type": "markdown",
      "source": [
        "#### b. Given a test data point x’ = (1.1, 1.1), what does your model predict as p(y’=1|x’)?\n"
      ],
      "metadata": {
        "id": "HD8h0Do3ux_S"
      }
    },
    {
      "cell_type": "code",
      "source": [
        "x = [1.1, 1.1]"
      ],
      "metadata": {
        "id": "JlVQVCkAu01e"
      },
      "execution_count": null,
      "outputs": []
    },
    {
      "cell_type": "markdown",
      "source": [
        "#### c. Plot the data with discriminant function and the decision regions for your model."
      ],
      "metadata": {
        "id": "Qz-z4IL5uzR0"
      }
    },
    {
      "cell_type": "code",
      "source": [],
      "metadata": {
        "id": "AJn10dMevO6e"
      },
      "execution_count": null,
      "outputs": []
    }
  ],
  "metadata": {
    "language_info": {
      "name": "python"
    },
    "colab": {
      "provenance": []
    }
  },
  "nbformat": 4,
  "nbformat_minor": 0
}