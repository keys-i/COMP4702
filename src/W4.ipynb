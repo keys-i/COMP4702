{
  "cells": [
    {
      "cell_type": "markdown",
      "source": [
        "W4 Practicals - Basic Parametric models and Statistical Learning"
      ],
      "metadata": {
        "id": "Tx78m4Btr6im"
      }
    },
    {
      "cell_type": "markdown",
      "metadata": {
        "id": "pn2Siz35rHoZ"
      },
      "source": [
        "### Aims:\n",
        "* To gain some experience in performing regression with linear and polynomial\n",
        "models and classification with parametric models.\n",
        "* To produce some assessable work for this subject."
      ]
    },
    {
      "cell_type": "code",
      "execution_count": null,
      "metadata": {
        "vscode": {
          "languageId": "plaintext"
        },
        "id": "j_PLXxoVrHoZ"
      },
      "outputs": [],
      "source": [
        "# Common Imports\n",
        "import numpy as np\n",
        "import pandas as pd\n",
        "import matplotlib.pyplot as plt\n",
        "import seaborn as sns"
      ]
    },
    {
      "cell_type": "code",
      "source": [
        "# ANSI color\n",
        "class color:\n",
        "  YELLOW_BOLD = '\\033[1;33m'\n",
        "  END = '\\033[0m'"
      ],
      "metadata": {
        "id": "tb33lMjDsb5P"
      },
      "execution_count": null,
      "outputs": []
    },
    {
      "cell_type": "markdown",
      "source": [
        "### Q1"
      ],
      "metadata": {
        "id": "To50hL54seZI"
      }
    },
    {
      "cell_type": "markdown",
      "source": [
        "#### a. Plot the function ($f(x) = x^3 + 1$) over the domain [-1,1]. This is the “true” function for our regression problem. However, the data that we observe (i.e. what we train the model with) will have Gaussian noise added to the output/target values."
      ],
      "metadata": {
        "id": "j6-LGbj3sj_z"
      }
    },
    {
      "cell_type": "code",
      "source": [
        "def f(x):\n",
        "  return x^3+1\n",
        "\n",
        "x = 1 # bleh\n",
        "\n",
        "plot()"
      ],
      "metadata": {
        "id": "U3-IMnDKtHWE"
      },
      "execution_count": null,
      "outputs": []
    },
    {
      "cell_type": "markdown",
      "source": [
        "#### b. Create a “sample training set” of 30 points by generating a random set of x/input values, and then corresponding outputs by evaluating the true function at each input value and adding Gaussian random noise. Plot the data on the same axes as the function."
      ],
      "metadata": {
        "id": "Qc3USgyXsvPx"
      }
    },
    {
      "cell_type": "code",
      "source": [],
      "metadata": {
        "id": "bS26DXTttcYT"
      },
      "execution_count": null,
      "outputs": []
    },
    {
      "cell_type": "markdown",
      "source": [
        "### c. Perform linear regression using your training set and calculate the training set (sum of squares) error."
      ],
      "metadata": {
        "id": "tc5GyRYvsy_-"
      }
    },
    {
      "cell_type": "code",
      "source": [],
      "metadata": {
        "id": "MCgUDuZhtcna"
      },
      "execution_count": null,
      "outputs": []
    },
    {
      "cell_type": "markdown",
      "source": [
        "#### d. Perform polynomial regression using your training set and calculate the training set (sum of squares) error. Experiment with different order polynomials and observe the effect on the training set error."
      ],
      "metadata": {
        "id": "YvzFC7fZs0vV"
      }
    },
    {
      "cell_type": "code",
      "source": [],
      "metadata": {
        "id": "cKiEDt2pseHb"
      },
      "execution_count": null,
      "outputs": []
    }
  ],
  "metadata": {
    "language_info": {
      "name": "python"
    },
    "colab": {
      "provenance": []
    }
  },
  "nbformat": 4,
  "nbformat_minor": 0
}