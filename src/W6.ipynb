{
  "cells": [
    {
      "cell_type": "markdown",
      "metadata": {
        "id": "o0qVKE7L3o-u"
      },
      "source": [
        "# Week 6: Performance contd. and Loss Functions"
      ]
    },
    {
      "cell_type": "markdown",
      "metadata": {
        "id": "aWmWXVdF3o-w"
      },
      "source": [
        "### Aims:\n",
        "* To gain some practical experience in evaluating supervised machine learning\n",
        "models.\n",
        "* To produce some assessable work for this subject."
      ]
    },
    {
      "cell_type": "markdown",
      "metadata": {
        "id": "1IdwH-nO3o-w"
      },
      "source": [
        "### Procedure:\n",
        "In Example 4.5 in the Lindholm et al. textbook, a thyroid dataset is used. This dataset\n",
        "is available on the course blackboard site (downloaded from:\n",
        "https://archive.ics.uci.edu/ml/datasets/thyroid+disease), in the files `ann-\n",
        "train.data` and `ann-test.data` (it seems the books has used these files for their\n",
        "training and hold-out validation sets). The files are (space delimited) “csv” files, with\n",
        "the last column being the class label."
      ]
    },
    {
      "cell_type": "code",
      "source": [
        "# from google.colab import files\n",
        "# uploaded = files.upload()"
      ],
      "metadata": {
        "id": "H7z7Pyjs6T4D"
      },
      "execution_count": 1,
      "outputs": []
    },
    {
      "cell_type": "code",
      "source": [
        "# Common Imports\n",
        "import pandas as pd\n",
        "import seaborn as sns\n",
        "import matplotlib.pyplot as plt"
      ],
      "metadata": {
        "id": "8FwiYap35AKK"
      },
      "execution_count": 3,
      "outputs": []
    },
    {
      "cell_type": "code",
      "source": [
        "# ANSI color\n",
        "class color:\n",
        "  GREEN_BOLD = '\\033[1;32m'\n",
        "  YELLOW_BOLD = '\\033[1;33m'\n",
        "  BLUE_BOLD = '\\033[1;34m'\n",
        "  WHITE_BOLD = '\\033[1;37m'\n",
        "  END = '\\033[0m'"
      ],
      "metadata": {
        "id": "zBXXi16B_0b3"
      },
      "execution_count": 2,
      "outputs": []
    },
    {
      "cell_type": "markdown",
      "metadata": {
        "id": "6DlXl9AG3o-w"
      },
      "source": [
        "### Q1: Train a k-NN model (choose some reasonable value for k) on the training set and calculate a confusion matrix for the hold-out validation set."
      ]
    },
    {
      "cell_type": "code",
      "source": [
        "# Specific Imports\n",
        "from sklearn.neighbors import KNeighborsClassifier\n",
        "from sklearn.metrics import accuracy_score, confusion_matrix\n",
        "from os import read      # Due to read_csv() problems\n",
        "from io import StringIO  # Due to read_csv() problems"
      ],
      "metadata": {
        "id": "qOvMIRnM4rXw"
      },
      "execution_count": 4,
      "outputs": []
    },
    {
      "cell_type": "code",
      "source": [
        "def read_data(filename):\n",
        "  with open(filename, 'r') as f:\n",
        "    content = f.read()\n",
        "  lines = content.split(\"  \")\n",
        "  return pd.read_csv(StringIO(\"\\n\".join(lines)), header=None, sep=\" \")\n",
        "\n",
        "df_train = read_data(\"ann-train.data\")\n",
        "df_test = read_data(\"ann-test.data\")"
      ],
      "metadata": {
        "id": "tqvA5aqG5EWI"
      },
      "execution_count": 37,
      "outputs": []
    },
    {
      "cell_type": "code",
      "source": [
        "def train_and_predict_knn(X_train, y_train, X_test, y_test, n_neighbors=3):\n",
        "  # Make a KNN Classifier and Train it on Dataset\n",
        "  knn = KNeighborsClassifier(n_neighbors)\n",
        "  knn.fit(X_train, y_train)\n",
        "\n",
        "  # Making Predictions\n",
        "  y_train_pred = knn.predict(X_train)\n",
        "  y_test_pred = knn.predict(X_test)\n",
        "  return knn, y_train_pred, y_test_pred\n",
        "\n",
        "def evaluate_classifier(y_train, y_train_pred, y_test, y_test_pred):\n",
        "  # Misclassification rate\n",
        "  train_loss = 1 - accuracy_score(y_train, y_train_pred)\n",
        "  test_loss = 1 - accuracy_score(y_test, y_test_pred)\n",
        "  # Confusion Matrix\n",
        "  train_cm = confusion_matrix(y_train, y_train_pred)\n",
        "  test_cm = confusion_matrix(y_test, y_test_pred)\n",
        "\n",
        "  plt.figure(figsize=(10, 4))\n",
        "  def view_confusion_matrix(confusion_matrix, label, subplot_position):\n",
        "    plt.subplot(1, 2, subplot_position)\n",
        "    sns.heatmap(confusion_matrix, annot=True, fmt='d', cmap='Blues', cbar=False,\n",
        "                xticklabels=['Predicted 0', 'Predicted 1'], yticklabels=['Actual 0', 'Actual 1'])\n",
        "    plt.title(f'Confusion Matrix - {label}')\n",
        "    plt.xlabel('Predicted')\n",
        "    plt.ylabel('Actual')\n",
        "\n",
        "  view_confusion_matrix(train_cm, 'Train', 1)\n",
        "  view_confusion_matrix(test_cm, 'Test', 2)\n",
        "  plt.tight_layout()\n",
        "  plt.show()\n",
        "  print(f\"\"\"\n",
        "  {color.YELLOW_BOLD}Misclassification Rate (in %):{color.END}\n",
        "    {color.BLUE_BOLD}Train Loss:{color.END} {train_loss*100}%\n",
        "    {color.BLUE_BOLD}Test Loss:{color.END} {test_loss*100}%\n",
        "  \"\"\")\n",
        "\n",
        "X_train, y_train = df_train.iloc[:, :-1], df_train.iloc[:, -1]\n",
        "X_test, y_test = df_test.iloc[:, :-1], df_test.iloc[:, -1]\n",
        "_, y_train_pred, y_test_pred = train_and_predict_knn(X_train, y_train, X_test, y_test, n_neighbors=11)\n",
        "evaluate_classifier(df_train.iloc[:, -1], y_train_pred, df_test.iloc[:, -1], y_test_pred)"
      ],
      "metadata": {
        "id": "Ro42Vaxq9yKk",
        "outputId": "a9ce6b28-d2fe-48a9-955f-c67831d3f644",
        "colab": {
          "base_uri": "https://localhost:8080/",
          "height": 624
        }
      },
      "execution_count": 40,
      "outputs": [
        {
          "output_type": "display_data",
          "data": {
            "text/plain": [
              "<Figure size 1000x400 with 2 Axes>"
            ],
            "image/png": "[encoded data removed]"
          },
          "metadata": {}
        },
        {
          "output_type": "stream",
          "name": "stdout",
          "text": [
            "\n",
            "  \u001b[1;33mMisclassification Rate (in %):\u001b[0m\n",
            "    \u001b[1;34mTrain Loss:\u001b[0m 6.177094379639447%\n",
            "    \u001b[1;34mTest Loss:\u001b[0m 6.709451575262548%\n",
            "  \n",
            "0       2\n",
            "1       3\n",
            "2       3\n",
            "3       3\n",
            "4       3\n",
            "       ..\n",
            "3423    3\n",
            "3424    1\n",
            "3425    3\n",
            "3426    3\n",
            "3427    3\n",
            "Name: 21, Length: 3428, dtype: int64\n"
          ]
        }
      ]
    },
    {
      "cell_type": "markdown",
      "metadata": {
        "id": "7FgOo5Ms3o-x"
      },
      "source": [
        "### Q2: Attempt to reproduce Example 4.5 from the `Lindholm et al.` textbook. You will need to:\n",
        "* Convert the data into a binary classification problem.\n",
        "* Train a logistic regression model on the training data.\n",
        "* Evaluate the trained model to calculate a confusion matrix.\n",
        "* Vary the decision threshold for the model as done in Example 4.5 and recalculate the confusion matrix."
      ]
    },
    {
      "cell_type": "code",
      "source": [
        "# Specfic Imports\n",
        "from sklearn.linear_model import LogisticRegression\n",
        "from sklearn.preprocessing import StandardScaler\n",
        "from sklearn.metrics import confusion_matrix, accuracy_score, f1_score"
      ],
      "metadata": {
        "id": "U217kGCzvfSc"
      },
      "execution_count": 41,
      "outputs": []
    },
    {
      "cell_type": "code",
      "source": [
        "dfs = [df_train, df_test]\n",
        "\n",
        "for df in dfs:\n",
        "    df[21] = df[21].map(lambda x: 0 if x == 3 else 1)"
      ],
      "metadata": {
        "id": "4m2P5efqv7Hr"
      },
      "execution_count": 42,
      "outputs": []
    },
    {
      "cell_type": "code",
      "source": [
        "X_train = df_train.iloc[:, :-1]\n",
        "y_train = df_train.iloc[:, -1]\n",
        "X_test = df_test.iloc[:, :-1]\n",
        "y_test = df_test.iloc[:, -1]"
      ],
      "metadata": {
        "id": "iYKrMbZRxBNR"
      },
      "execution_count": 43,
      "outputs": []
    },
    {
      "cell_type": "code",
      "source": [
        "# Scale features\n",
        "scaler = StandardScaler()\n",
        "X_train_scaled = scaler.fit_transform(X_train)\n",
        "X_test_scaled = scaler.transform(X_test)\n",
        "\n",
        "# Train logistic regression\n",
        "clf = LogisticRegression()\n",
        "clf.fit(X_train_scaled, y_train)"
      ],
      "metadata": {
        "colab": {
          "base_uri": "https://localhost:8080/",
          "height": 100
        },
        "id": "HHSSNi8IxEiO",
        "outputId": "7f7fc8d3-5d4a-475a-8b74-3def19dea186"
      },
      "execution_count": 44,
      "outputs": [
        {
          "output_type": "execute_result",
          "data": {
            "text/plain": [
              "LogisticRegression()"
            ],
            "text/html": [
              "<style>#sk-container-id-2 {\n",
              "  /* Definition of color scheme common for light and dark mode */\n",
              "  --sklearn-color-text: #000;\n",
              "  --sklearn-color-text-muted: #666;\n",
              "  --sklearn-color-line: gray;\n",
              "  /* Definition of color scheme for unfitted estimators */\n",
              "  --sklearn-color-unfitted-level-0: #fff5e6;\n",
              "  --sklearn-color-unfitted-level-1: #f6e4d2;\n",
              "  --sklearn-color-unfitted-level-2: #ffe0b3;\n",
              "  --sklearn-color-unfitted-level-3: chocolate;\n",
              "  /* Definition of color scheme for fitted estimators */\n",
              "  --sklearn-color-fitted-level-0: #f0f8ff;\n",
              "  --sklearn-color-fitted-level-1: #d4ebff;\n",
              "  --sklearn-color-fitted-level-2: #b3dbfd;\n",
              "  --sklearn-color-fitted-level-3: cornflowerblue;\n",
              "\n",
              "  /* Specific color for light theme */\n",
              "  --sklearn-color-text-on-default-background: var(--sg-text-color, var(--theme-code-foreground, var(--jp-content-font-color1, black)));\n",
              "  --sklearn-color-background: var(--sg-background-color, var(--theme-background, var(--jp-layout-color0, white)));\n",
              "  --sklearn-color-border-box: var(--sg-text-color, var(--theme-code-foreground, var(--jp-content-font-color1, black)));\n",
              "  --sklearn-color-icon: #696969;\n",
              "\n",
              "  @media (prefers-color-scheme: dark) {\n",
              "    /* Redefinition of color scheme for dark theme */\n",
              "    --sklearn-color-text-on-default-background: var(--sg-text-color, var(--theme-code-foreground, var(--jp-content-font-color1, white)));\n",
              "    --sklearn-color-background: var(--sg-background-color, var(--theme-background, var(--jp-layout-color0, #111)));\n",
              "    --sklearn-color-border-box: var(--sg-text-color, var(--theme-code-foreground, var(--jp-content-font-color1, white)));\n",
              "    --sklearn-color-icon: #878787;\n",
              "  }\n",
              "}\n",
              "\n",
              "#sk-container-id-2 {\n",
              "  color: var(--sklearn-color-text);\n",
              "}\n",
              "\n",
              "#sk-container-id-2 pre {\n",
              "  padding: 0;\n",
              "}\n",
              "\n",
              "#sk-container-id-2 input.sk-hidden--visually {\n",
              "  border: 0;\n",
              "  clip: rect(1px 1px 1px 1px);\n",
              "  clip: rect(1px, 1px, 1px, 1px);\n",
              "  height: 1px;\n",
              "  margin: -1px;\n",
              "  overflow: hidden;\n",
              "  padding: 0;\n",
              "  position: absolute;\n",
              "  width: 1px;\n",
              "}\n",
              "\n",
              "#sk-container-id-2 div.sk-dashed-wrapped {\n",
              "  border: 1px dashed var(--sklearn-color-line);\n",
              "  margin: 0 0.4em 0.5em 0.4em;\n",
              "  box-sizing: border-box;\n",
              "  padding-bottom: 0.4em;\n",
              "  background-color: var(--sklearn-color-background);\n",
              "}\n",
              "\n",
              "#sk-container-id-2 div.sk-container {\n",
              "  /* jupyter's `normalize.less` sets `[hidden] { display: none; }`\n",
              "     but bootstrap.min.css set `[hidden] { display: none !important; }`\n",
              "     so we also need the `!important` here to be able to override the\n",
              "     default hidden behavior on the sphinx rendered scikit-learn.org.\n",
              "     See: https://github.com/scikit-learn/scikit-learn/issues/21755 */\n",
              "  display: inline-block !important;\n",
              "  position: relative;\n",
              "}\n",
              "\n",
              "#sk-container-id-2 div.sk-text-repr-fallback {\n",
              "  display: none;\n",
              "}\n",
              "\n",
              "div.sk-parallel-item,\n",
              "div.sk-serial,\n",
              "div.sk-item {\n",
              "  /* draw centered vertical line to link estimators */\n",
              "  background-image: linear-gradient(var(--sklearn-color-text-on-default-background), var(--sklearn-color-text-on-default-background));\n",
              "  background-size: 2px 100%;\n",
              "  background-repeat: no-repeat;\n",
              "  background-position: center center;\n",
              "}\n",
              "\n",
              "/* Parallel-specific style estimator block */\n",
              "\n",
              "#sk-container-id-2 div.sk-parallel-item::after {\n",
              "  content: \"\";\n",
              "  width: 100%;\n",
              "  border-bottom: 2px solid var(--sklearn-color-text-on-default-background);\n",
              "  flex-grow: 1;\n",
              "}\n",
              "\n",
              "#sk-container-id-2 div.sk-parallel {\n",
              "  display: flex;\n",
              "  align-items: stretch;\n",
              "  justify-content: center;\n",
              "  background-color: var(--sklearn-color-background);\n",
              "  position: relative;\n",
              "}\n",
              "\n",
              "#sk-container-id-2 div.sk-parallel-item {\n",
              "  display: flex;\n",
              "  flex-direction: column;\n",
              "}\n",
              "\n",
              "#sk-container-id-2 div.sk-parallel-item:first-child::after {\n",
              "  align-self: flex-end;\n",
              "  width: 50%;\n",
              "}\n",
              "\n",
              "#sk-container-id-2 div.sk-parallel-item:last-child::after {\n",
              "  align-self: flex-start;\n",
              "  width: 50%;\n",
              "}\n",
              "\n",
              "#sk-container-id-2 div.sk-parallel-item:only-child::after {\n",
              "  width: 0;\n",
              "}\n",
              "\n",
              "/* Serial-specific style estimator block */\n",
              "\n",
              "#sk-container-id-2 div.sk-serial {\n",
              "  display: flex;\n",
              "  flex-direction: column;\n",
              "  align-items: center;\n",
              "  background-color: var(--sklearn-color-background);\n",
              "  padding-right: 1em;\n",
              "  padding-left: 1em;\n",
              "}\n",
              "\n",
              "\n",
              "/* Toggleable style: style used for estimator/Pipeline/ColumnTransformer box that is\n",
              "clickable and can be expanded/collapsed.\n",
              "- Pipeline and ColumnTransformer use this feature and define the default style\n",
              "- Estimators will overwrite some part of the style using the `sk-estimator` class\n",
              "*/\n",
              "\n",
              "/* Pipeline and ColumnTransformer style (default) */\n",
              "\n",
              "#sk-container-id-2 div.sk-toggleable {\n",
              "  /* Default theme specific background. It is overwritten whether we have a\n",
              "  specific estimator or a Pipeline/ColumnTransformer */\n",
              "  background-color: var(--sklearn-color-background);\n",
              "}\n",
              "\n",
              "/* Toggleable label */\n",
              "#sk-container-id-2 label.sk-toggleable__label {\n",
              "  cursor: pointer;\n",
              "  display: flex;\n",
              "  width: 100%;\n",
              "  margin-bottom: 0;\n",
              "  padding: 0.5em;\n",
              "  box-sizing: border-box;\n",
              "  text-align: center;\n",
              "  align-items: start;\n",
              "  justify-content: space-between;\n",
              "  gap: 0.5em;\n",
              "}\n",
              "\n",
              "#sk-container-id-2 label.sk-toggleable__label .caption {\n",
              "  font-size: 0.6rem;\n",
              "  font-weight: lighter;\n",
              "  color: var(--sklearn-color-text-muted);\n",
              "}\n",
              "\n",
              "#sk-container-id-2 label.sk-toggleable__label-arrow:before {\n",
              "  /* Arrow on the left of the label */\n",
              "  content: \"▸\";\n",
              "  float: left;\n",
              "  margin-right: 0.25em;\n",
              "  color: var(--sklearn-color-icon);\n",
              "}\n",
              "\n",
              "#sk-container-id-2 label.sk-toggleable__label-arrow:hover:before {\n",
              "  color: var(--sklearn-color-text);\n",
              "}\n",
              "\n",
              "/* Toggleable content - dropdown */\n",
              "\n",
              "#sk-container-id-2 div.sk-toggleable__content {\n",
              "  max-height: 0;\n",
              "  max-width: 0;\n",
              "  overflow: hidden;\n",
              "  text-align: left;\n",
              "  /* unfitted */\n",
              "  background-color: var(--sklearn-color-unfitted-level-0);\n",
              "}\n",
              "\n",
              "#sk-container-id-2 div.sk-toggleable__content.fitted {\n",
              "  /* fitted */\n",
              "  background-color: var(--sklearn-color-fitted-level-0);\n",
              "}\n",
              "\n",
              "#sk-container-id-2 div.sk-toggleable__content pre {\n",
              "  margin: 0.2em;\n",
              "  border-radius: 0.25em;\n",
              "  color: var(--sklearn-color-text);\n",
              "  /* unfitted */\n",
              "  background-color: var(--sklearn-color-unfitted-level-0);\n",
              "}\n",
              "\n",
              "#sk-container-id-2 div.sk-toggleable__content.fitted pre {\n",
              "  /* unfitted */\n",
              "  background-color: var(--sklearn-color-fitted-level-0);\n",
              "}\n",
              "\n",
              "#sk-container-id-2 input.sk-toggleable__control:checked~div.sk-toggleable__content {\n",
              "  /* Expand drop-down */\n",
              "  max-height: 200px;\n",
              "  max-width: 100%;\n",
              "  overflow: auto;\n",
              "}\n",
              "\n",
              "#sk-container-id-2 input.sk-toggleable__control:checked~label.sk-toggleable__label-arrow:before {\n",
              "  content: \"▾\";\n",
              "}\n",
              "\n",
              "/* Pipeline/ColumnTransformer-specific style */\n",
              "\n",
              "#sk-container-id-2 div.sk-label input.sk-toggleable__control:checked~label.sk-toggleable__label {\n",
              "  color: var(--sklearn-color-text);\n",
              "  background-color: var(--sklearn-color-unfitted-level-2);\n",
              "}\n",
              "\n",
              "#sk-container-id-2 div.sk-label.fitted input.sk-toggleable__control:checked~label.sk-toggleable__label {\n",
              "  background-color: var(--sklearn-color-fitted-level-2);\n",
              "}\n",
              "\n",
              "/* Estimator-specific style */\n",
              "\n",
              "/* Colorize estimator box */\n",
              "#sk-container-id-2 div.sk-estimator input.sk-toggleable__control:checked~label.sk-toggleable__label {\n",
              "  /* unfitted */\n",
              "  background-color: var(--sklearn-color-unfitted-level-2);\n",
              "}\n",
              "\n",
              "#sk-container-id-2 div.sk-estimator.fitted input.sk-toggleable__control:checked~label.sk-toggleable__label {\n",
              "  /* fitted */\n",
              "  background-color: var(--sklearn-color-fitted-level-2);\n",
              "}\n",
              "\n",
              "#sk-container-id-2 div.sk-label label.sk-toggleable__label,\n",
              "#sk-container-id-2 div.sk-label label {\n",
              "  /* The background is the default theme color */\n",
              "  color: var(--sklearn-color-text-on-default-background);\n",
              "}\n",
              "\n",
              "/* On hover, darken the color of the background */\n",
              "#sk-container-id-2 div.sk-label:hover label.sk-toggleable__label {\n",
              "  color: var(--sklearn-color-text);\n",
              "  background-color: var(--sklearn-color-unfitted-level-2);\n",
              "}\n",
              "\n",
              "/* Label box, darken color on hover, fitted */\n",
              "#sk-container-id-2 div.sk-label.fitted:hover label.sk-toggleable__label.fitted {\n",
              "  color: var(--sklearn-color-text);\n",
              "  background-color: var(--sklearn-color-fitted-level-2);\n",
              "}\n",
              "\n",
              "/* Estimator label */\n",
              "\n",
              "#sk-container-id-2 div.sk-label label {\n",
              "  font-family: monospace;\n",
              "  font-weight: bold;\n",
              "  display: inline-block;\n",
              "  line-height: 1.2em;\n",
              "}\n",
              "\n",
              "#sk-container-id-2 div.sk-label-container {\n",
              "  text-align: center;\n",
              "}\n",
              "\n",
              "/* Estimator-specific */\n",
              "#sk-container-id-2 div.sk-estimator {\n",
              "  font-family: monospace;\n",
              "  border: 1px dotted var(--sklearn-color-border-box);\n",
              "  border-radius: 0.25em;\n",
              "  box-sizing: border-box;\n",
              "  margin-bottom: 0.5em;\n",
              "  /* unfitted */\n",
              "  background-color: var(--sklearn-color-unfitted-level-0);\n",
              "}\n",
              "\n",
              "#sk-container-id-2 div.sk-estimator.fitted {\n",
              "  /* fitted */\n",
              "  background-color: var(--sklearn-color-fitted-level-0);\n",
              "}\n",
              "\n",
              "/* on hover */\n",
              "#sk-container-id-2 div.sk-estimator:hover {\n",
              "  /* unfitted */\n",
              "  background-color: var(--sklearn-color-unfitted-level-2);\n",
              "}\n",
              "\n",
              "#sk-container-id-2 div.sk-estimator.fitted:hover {\n",
              "  /* fitted */\n",
              "  background-color: var(--sklearn-color-fitted-level-2);\n",
              "}\n",
              "\n",
              "/* Specification for estimator info (e.g. \"i\" and \"?\") */\n",
              "\n",
              "/* Common style for \"i\" and \"?\" */\n",
              "\n",
              ".sk-estimator-doc-link,\n",
              "a:link.sk-estimator-doc-link,\n",
              "a:visited.sk-estimator-doc-link {\n",
              "  float: right;\n",
              "  font-size: smaller;\n",
              "  line-height: 1em;\n",
              "  font-family: monospace;\n",
              "  background-color: var(--sklearn-color-background);\n",
              "  border-radius: 1em;\n",
              "  height: 1em;\n",
              "  width: 1em;\n",
              "  text-decoration: none !important;\n",
              "  margin-left: 0.5em;\n",
              "  text-align: center;\n",
              "  /* unfitted */\n",
              "  border: var(--sklearn-color-unfitted-level-1) 1pt solid;\n",
              "  color: var(--sklearn-color-unfitted-level-1);\n",
              "}\n",
              "\n",
              ".sk-estimator-doc-link.fitted,\n",
              "a:link.sk-estimator-doc-link.fitted,\n",
              "a:visited.sk-estimator-doc-link.fitted {\n",
              "  /* fitted */\n",
              "  border: var(--sklearn-color-fitted-level-1) 1pt solid;\n",
              "  color: var(--sklearn-color-fitted-level-1);\n",
              "}\n",
              "\n",
              "/* On hover */\n",
              "div.sk-estimator:hover .sk-estimator-doc-link:hover,\n",
              ".sk-estimator-doc-link:hover,\n",
              "div.sk-label-container:hover .sk-estimator-doc-link:hover,\n",
              ".sk-estimator-doc-link:hover {\n",
              "  /* unfitted */\n",
              "  background-color: var(--sklearn-color-unfitted-level-3);\n",
              "  color: var(--sklearn-color-background);\n",
              "  text-decoration: none;\n",
              "}\n",
              "\n",
              "div.sk-estimator.fitted:hover .sk-estimator-doc-link.fitted:hover,\n",
              ".sk-estimator-doc-link.fitted:hover,\n",
              "div.sk-label-container:hover .sk-estimator-doc-link.fitted:hover,\n",
              ".sk-estimator-doc-link.fitted:hover {\n",
              "  /* fitted */\n",
              "  background-color: var(--sklearn-color-fitted-level-3);\n",
              "  color: var(--sklearn-color-background);\n",
              "  text-decoration: none;\n",
              "}\n",
              "\n",
              "/* Span, style for the box shown on hovering the info icon */\n",
              ".sk-estimator-doc-link span {\n",
              "  display: none;\n",
              "  z-index: 9999;\n",
              "  position: relative;\n",
              "  font-weight: normal;\n",
              "  right: .2ex;\n",
              "  padding: .5ex;\n",
              "  margin: .5ex;\n",
              "  width: min-content;\n",
              "  min-width: 20ex;\n",
              "  max-width: 50ex;\n",
              "  color: var(--sklearn-color-text);\n",
              "  box-shadow: 2pt 2pt 4pt #999;\n",
              "  /* unfitted */\n",
              "  background: var(--sklearn-color-unfitted-level-0);\n",
              "  border: .5pt solid var(--sklearn-color-unfitted-level-3);\n",
              "}\n",
              "\n",
              ".sk-estimator-doc-link.fitted span {\n",
              "  /* fitted */\n",
              "  background: var(--sklearn-color-fitted-level-0);\n",
              "  border: var(--sklearn-color-fitted-level-3);\n",
              "}\n",
              "\n",
              ".sk-estimator-doc-link:hover span {\n",
              "  display: block;\n",
              "}\n",
              "\n",
              "/* \"?\"-specific style due to the `<a>` HTML tag */\n",
              "\n",
              "#sk-container-id-2 a.estimator_doc_link {\n",
              "  float: right;\n",
              "  font-size: 1rem;\n",
              "  line-height: 1em;\n",
              "  font-family: monospace;\n",
              "  background-color: var(--sklearn-color-background);\n",
              "  border-radius: 1rem;\n",
              "  height: 1rem;\n",
              "  width: 1rem;\n",
              "  text-decoration: none;\n",
              "  /* unfitted */\n",
              "  color: var(--sklearn-color-unfitted-level-1);\n",
              "  border: var(--sklearn-color-unfitted-level-1) 1pt solid;\n",
              "}\n",
              "\n",
              "#sk-container-id-2 a.estimator_doc_link.fitted {\n",
              "  /* fitted */\n",
              "  border: var(--sklearn-color-fitted-level-1) 1pt solid;\n",
              "  color: var(--sklearn-color-fitted-level-1);\n",
              "}\n",
              "\n",
              "/* On hover */\n",
              "#sk-container-id-2 a.estimator_doc_link:hover {\n",
              "  /* unfitted */\n",
              "  background-color: var(--sklearn-color-unfitted-level-3);\n",
              "  color: var(--sklearn-color-background);\n",
              "  text-decoration: none;\n",
              "}\n",
              "\n",
              "#sk-container-id-2 a.estimator_doc_link.fitted:hover {\n",
              "  /* fitted */\n",
              "  background-color: var(--sklearn-color-fitted-level-3);\n",
              "}\n",
              "</style><div id=\"sk-container-id-2\" class=\"sk-top-container\"><div class=\"sk-text-repr-fallback\"><pre>LogisticRegression()</pre><b>In a Jupyter environment, please rerun this cell to show the HTML representation or trust the notebook. <br />On GitHub, the HTML representation is unable to render, please try loading this page with nbviewer.org.</b></div><div class=\"sk-container\" hidden><div class=\"sk-item\"><div class=\"sk-estimator fitted sk-toggleable\"><input class=\"sk-toggleable__control sk-hidden--visually\" id=\"sk-estimator-id-2\" type=\"checkbox\" checked><label for=\"sk-estimator-id-2\" class=\"sk-toggleable__label fitted sk-toggleable__label-arrow\"><div><div>LogisticRegression</div></div><div><a class=\"sk-estimator-doc-link fitted\" rel=\"noreferrer\" target=\"_blank\" href=\"https://scikit-learn.org/1.6/modules/generated/sklearn.linear_model.LogisticRegression.html\">?<span>Documentation for LogisticRegression</span></a><span class=\"sk-estimator-doc-link fitted\">i<span>Fitted</span></span></div></label><div class=\"sk-toggleable__content fitted\"><pre>LogisticRegression()</pre></div> </div></div></div></div>"
            ]
          },
          "metadata": {},
          "execution_count": 44
        }
      ]
    },
    {
      "cell_type": "code",
      "source": [
        "# Predict probabilities for test set\n",
        "y_probs = clf.predict_proba(X_test_scaled)[:, 1]\n",
        "\n",
        "def evaluate_multiple_thresholds(y_true, y_probs, thresholds=[0.5, 0.15], sep=\"\"):\n",
        "    results = []\n",
        "    for threshold in thresholds:\n",
        "        y_pred = (y_probs >= threshold).astype(int)\n",
        "        cm = confusion_matrix(y_true, y_pred)\n",
        "        acc = accuracy_score(y_true, y_pred)\n",
        "        f1 = f1_score(y_true, y_pred)\n",
        "\n",
        "        tn, fp, fn, tp = cm.ravel()\n",
        "\n",
        "        result_str = f\"\"\"{color.GREEN_BOLD}=== Threshold {threshold} ==={color.END}\n",
        "{sep}{color.YELLOW_BOLD}Confusion Matrix:{color.END}\n",
        "{sep*2}              {color.BLUE_BOLD}Predicted{color.END}\n",
        "{sep*2}              0      1\n",
        "{sep*2}{color.BLUE_BOLD}Actual{color.END}  0   [{tn:^5}] [{fp:^5}]\n",
        "{sep*2}        1   [{fn:^5}] [{tp:^5}]\n",
        "{sep}\n",
        "{sep}{color.YELLOW_BOLD}Accuracy:{color.END} {round(acc, 3)}\n",
        "{sep}{color.YELLOW_BOLD}F1 Score:{color.END} {round(f1, 3)}\n",
        "\"\"\"\n",
        "        print(result_str)\n",
        "\n",
        "evaluate_multiple_thresholds(y_test, y_probs, thresholds=[0.5, 0.15], sep=\"\\t\")"
      ],
      "metadata": {
        "colab": {
          "base_uri": "https://localhost:8080/"
        },
        "id": "yx4nU1pdxIAk",
        "outputId": "fd53e839-312d-4322-8776-390a9a9c4fb2"
      },
      "execution_count": 45,
      "outputs": [
        {
          "output_type": "stream",
          "name": "stdout",
          "text": [
            "\u001b[1;32m=== Threshold 0.5 ===\u001b[0m\n",
            "\t\u001b[1;33mConfusion Matrix:\u001b[0m\n",
            "\t\t              \u001b[1;34mPredicted\u001b[0m\n",
            "\t\t              0      1\n",
            "\t\t\u001b[1;34mActual\u001b[0m  0   [3149 ] [ 29  ]\n",
            "\t\t        1   [ 121 ] [ 129 ]\n",
            "\t\n",
            "\t\u001b[1;33mAccuracy:\u001b[0m 0.956\n",
            "\t\u001b[1;33mF1 Score:\u001b[0m 0.632\n",
            "\n",
            "\u001b[1;32m=== Threshold 0.15 ===\u001b[0m\n",
            "\t\u001b[1;33mConfusion Matrix:\u001b[0m\n",
            "\t\t              \u001b[1;34mPredicted\u001b[0m\n",
            "\t\t              0      1\n",
            "\t\t\u001b[1;34mActual\u001b[0m  0   [3076 ] [ 102 ]\n",
            "\t\t        1   [ 37  ] [ 213 ]\n",
            "\t\n",
            "\t\u001b[1;33mAccuracy:\u001b[0m 0.959\n",
            "\t\u001b[1;33mF1 Score:\u001b[0m 0.754\n",
            "\n"
          ]
        }
      ]
    },
    {
      "cell_type": "markdown",
      "metadata": {
        "id": "P4iQsdTd3o-x"
      },
      "source": [
        "### Q3: In Prac W4 we applied linear regression to a pokemon dataset, where the loss function was sum of squares (or mean squared) error. Revisit this task but add\n",
        "a. $L^2$; <br>\n",
        "b. $L^1$ regularisation to the loss function, with some suitable value for the\n",
        "regularization hyperparameter (see Section 5.3 of the textbook). <br>\n",
        "Compare the coefficient values from your different trained models."
      ]
    },
    {
      "cell_type": "code",
      "source": [
        "from sklearn.model_selection import train_test_split\n",
        "from sklearn.preprocessing import StandardScaler\n",
        "from sklearn.linear_model import LinearRegression  # Baseline\n",
        "from sklearn.linear_model import Ridge, Lasso      # L^2, L^1"
      ],
      "metadata": {
        "id": "M2J4lSZ2zLgX"
      },
      "execution_count": 46,
      "outputs": []
    },
    {
      "cell_type": "code",
      "source": [
        "df = pd.read_csv(\"pokemonregr.csv\")\n",
        "\n",
        "df = df.select_dtypes(include='number').dropna()\n",
        "\n",
        "X = df.drop(\"weight_kg\", axis=1)\n",
        "y = df[\"weight_kg\"]\n",
        "\n",
        "X_train, X_test, y_train, y_test = train_test_split(X, y, test_size=0.2, random_state=42)\n",
        "\n",
        "# Standardize features\n",
        "scaler = StandardScaler()\n",
        "X_train_scaled = scaler.fit_transform(X_train)\n",
        "X_test_scaled = scaler.transform(X_test)"
      ],
      "metadata": {
        "id": "4gm__YTizLEP"
      },
      "execution_count": 47,
      "outputs": []
    },
    {
      "cell_type": "code",
      "source": [
        "# Baseline\n",
        "lr = LinearRegression()\n",
        "lr.fit(X_train_scaled, y_train)\n",
        "lr_coef = lr.coef_\n",
        "\n",
        "# L^2 Regularization\n",
        "ridge = Ridge(alpha=1.0)\n",
        "ridge.fit(X_train_scaled, y_train)\n",
        "ridge_coef = ridge.coef_\n",
        "\n",
        "# L^1 Regularization\n",
        "lasso = Lasso(alpha=0.1)\n",
        "lasso.fit(X_train_scaled, y_train)\n",
        "lasso_coef = lasso.coef_"
      ],
      "metadata": {
        "id": "Zs7KZ6TYz-Tc"
      },
      "execution_count": 48,
      "outputs": []
    },
    {
      "cell_type": "code",
      "source": [
        "coef_df = pd.DataFrame({\n",
        "    \"Feature\": X.columns,\n",
        "    \"Linear\": lr_coef,\n",
        "    \"Ridge\": ridge_coef,\n",
        "    \"Lasso\": lasso_coef\n",
        "})"
      ],
      "metadata": {
        "id": "3KLOSeFOz4CV"
      },
      "execution_count": 49,
      "outputs": []
    },
    {
      "cell_type": "code",
      "source": [
        "def print_colored_coefficients(coef_df):\n",
        "    print(f\"{color.GREEN_BOLD}{'Feature':<20}{'Linear':<15}{'Ridge':<15}{'Lasso':<15}{color.END}\")\n",
        "\n",
        "    for idx, row in coef_df.iterrows():\n",
        "        feature = f\"{color.YELLOW_BOLD}{row['Feature']}{color.END}\"\n",
        "        linear_coef = f\"{row['Linear']:.2f}\"\n",
        "        ridge_coef = f\"{row['Ridge']:.2f}\"\n",
        "        lasso_coef = f\"{row['Lasso']:.2f}\"\n",
        "\n",
        "        print(f\"{feature:<20}{linear_coef:>15}{ridge_coef:>15}{lasso_coef:>15}\")\n",
        "\n",
        "def plot_coefficients(coef_df):\n",
        "    plt.figure(figsize=(10, 6))\n",
        "\n",
        "    sns.heatmap(coef_df.set_index('Feature').transpose(), annot=True, cmap=\"coolwarm\", fmt=\".2f\", cbar=True)\n",
        "\n",
        "    plt.title('Comparison of Model Coefficients', fontsize=16)\n",
        "    plt.xlabel('Features', fontsize=12)\n",
        "    plt.ylabel('Models', fontsize=12)\n",
        "\n",
        "    plt.tight_layout()\n",
        "    plt.show()\n",
        "\n",
        "print_colored_coefficients(coef_df)\n",
        "print(\"\\n\")\n",
        "plot_coefficients(coef_df)"
      ],
      "metadata": {
        "colab": {
          "base_uri": "https://localhost:8080/",
          "height": 675
        },
        "id": "lnPwMfFP3K-k",
        "outputId": "b822d859-644a-4634-b29f-e8caa2bff6df"
      },
      "execution_count": 50,
      "outputs": [
        {
          "output_type": "stream",
          "name": "stdout",
          "text": [
            "\u001b[1;32mFeature             Linear         Ridge          Lasso          \u001b[0m\n",
            "\u001b[1;33mattack\u001b[0m              9.92           9.93           9.74\n",
            "\u001b[1;33mdefense\u001b[0m            15.71          15.71          15.78\n",
            "\u001b[1;33mheight_m\u001b[0m           59.75          59.63          59.66\n",
            "\u001b[1;33msp_attack\u001b[0m          -0.82          -0.80          -0.60\n",
            "\u001b[1;33msp_defense\u001b[0m           5.60           5.61           5.40\n",
            "\u001b[1;33mspeed\u001b[0m             -10.01          -9.98          -9.87\n",
            "\n",
            "\n"
          ]
        },
        {
          "output_type": "display_data",
          "data": {
            "text/plain": [
              "<Figure size 1000x600 with 2 Axes>"
            ],
            "image/png": "[encoded data removed]"
          },
          "metadata": {}
        }
      ]
    },
    {
      "cell_type": "markdown",
      "source": [
        "### References:\n",
        "* https://www.askpython.com/python/examples/read-data-files-in-python\n",
        "* https://scikit-learn.org/stable/modules/generated/sklearn.linear_model.Lasso.html\n",
        "* https://scikit-learn.org/stable/modules/generated/sklearn.linear_model.Ridge.html"
      ],
      "metadata": {
        "id": "-aTY9n6j4zWn"
      }
    },
    {
      "cell_type": "markdown",
      "source": [],
      "metadata": {
        "id": "X7hQBevj1Do4"
      }
    }
  ],
  "metadata": {
    "language_info": {
      "name": "python"
    },
    "colab": {
      "provenance": []
    },
    "kernelspec": {
      "name": "python3",
      "display_name": "Python 3"
    }
  },
  "nbformat": 4,
  "nbformat_minor": 0
}