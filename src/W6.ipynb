{
  "cells": [
    {
      "cell_type": "markdown",
      "metadata": {
        "id": "o0qVKE7L3o-u"
      },
      "source": [
        "# Week 6: Performance contd. and Loss Functions"
      ]
    },
    {
      "cell_type": "markdown",
      "metadata": {
        "id": "aWmWXVdF3o-w"
      },
      "source": [
        "### Aims:\n",
        "* To gain some practical experience in evaluating supervised machine learning\n",
        "models.\n",
        "* To produce some assessable work for this subject."
      ]
    },
    {
      "cell_type": "markdown",
      "metadata": {
        "id": "1IdwH-nO3o-w"
      },
      "source": [
        "### Procedure:\n",
        "In Example 4.5 in the Lindholm et al. textbook, a thyroid dataset is used. This dataset\n",
        "is available on the course blackboard site (downloaded from:\n",
        "https://archive.ics.uci.edu/ml/datasets/thyroid+disease), in the files `ann-\n",
        "train.data` and `ann-test.data` (it seems the books has used these files for their\n",
        "training and hold-out validation sets). The files are (space delimited) “csv” files, with\n",
        "the last column being the class label."
      ]
    },
    {
      "cell_type": "markdown",
      "metadata": {
        "id": "6DlXl9AG3o-w"
      },
      "source": [
        "### Q1: Train a k-NN model (choose some reasonable value for k) on the training set and calculate a confusion matrix for the hold-out validation set."
      ]
    },
    {
      "cell_type": "markdown",
      "metadata": {
        "id": "7FgOo5Ms3o-x"
      },
      "source": [
        "### Q2: Attempt to reproduce Example 4.5 from the `Lindholm et al.` textbook. You will need to:\n",
        "* Convert the data into a binary classification problem.\n",
        "* Train a logistic regression model on the training data.\n",
        "* Evaluate the trained model to calculate a confusion matrix.\n",
        "* Vary the decision threshold for the model as done in Example 4.5 and recalculate the confusion matrix."
      ]
    },
    {
      "cell_type": "markdown",
      "metadata": {
        "id": "P4iQsdTd3o-x"
      },
      "source": [
        "### Q3: In Prac W4 we applied linear regression to a pokemon dataset, where the loss function was sum of squares (or mean squared) error. Revisit this task but add\n",
        "a. $L^2$; <br>\n",
        "b. $L^1$ regularisation to the loss function, with some suitable value for the\n",
        "regularization hyperparameter (see Section 5.3 of the textbook). <br>\n",
        "Compare the coefficient values from your different trained models."
      ]
    }
  ],
  "metadata": {
    "language_info": {
      "name": "python"
    },
    "colab": {
      "provenance": []
    }
  },
  "nbformat": 4,
  "nbformat_minor": 0
}